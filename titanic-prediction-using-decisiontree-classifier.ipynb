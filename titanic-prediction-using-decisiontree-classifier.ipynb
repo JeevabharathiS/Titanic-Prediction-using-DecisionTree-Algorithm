{
 "cells": [
  {
   "cell_type": "code",
   "execution_count": 1,
   "id": "975132e0",
   "metadata": {
    "execution": {
     "iopub.execute_input": "2023-03-22T12:59:39.301445Z",
     "iopub.status.busy": "2023-03-22T12:59:39.300906Z",
     "iopub.status.idle": "2023-03-22T12:59:40.519524Z",
     "shell.execute_reply": "2023-03-22T12:59:40.518220Z"
    },
    "papermill": {
     "duration": 1.236093,
     "end_time": "2023-03-22T12:59:40.522696",
     "exception": false,
     "start_time": "2023-03-22T12:59:39.286603",
     "status": "completed"
    },
    "tags": []
   },
   "outputs": [],
   "source": [
    "import pandas as pd\n",
    "import seaborn as sns\n",
    "testdata = pd.read_csv(\"/kaggle/input/titanic/test.csv\")\n",
    "traindata = pd.read_csv(\"/kaggle/input/titanic/train.csv\")"
   ]
  },
  {
   "cell_type": "code",
   "execution_count": 2,
   "id": "928a8b5b",
   "metadata": {
    "execution": {
     "iopub.execute_input": "2023-03-22T12:59:40.546903Z",
     "iopub.status.busy": "2023-03-22T12:59:40.545713Z",
     "iopub.status.idle": "2023-03-22T12:59:40.576340Z",
     "shell.execute_reply": "2023-03-22T12:59:40.575062Z"
    },
    "papermill": {
     "duration": 0.046113,
     "end_time": "2023-03-22T12:59:40.579816",
     "exception": false,
     "start_time": "2023-03-22T12:59:40.533703",
     "status": "completed"
    },
    "tags": []
   },
   "outputs": [
    {
     "data": {
      "text/html": [
       "<div>\n",
       "<style scoped>\n",
       "    .dataframe tbody tr th:only-of-type {\n",
       "        vertical-align: middle;\n",
       "    }\n",
       "\n",
       "    .dataframe tbody tr th {\n",
       "        vertical-align: top;\n",
       "    }\n",
       "\n",
       "    .dataframe thead th {\n",
       "        text-align: right;\n",
       "    }\n",
       "</style>\n",
       "<table border=\"1\" class=\"dataframe\">\n",
       "  <thead>\n",
       "    <tr style=\"text-align: right;\">\n",
       "      <th></th>\n",
       "      <th>PassengerId</th>\n",
       "      <th>Pclass</th>\n",
       "      <th>Name</th>\n",
       "      <th>Sex</th>\n",
       "      <th>Age</th>\n",
       "      <th>SibSp</th>\n",
       "      <th>Parch</th>\n",
       "      <th>Ticket</th>\n",
       "      <th>Fare</th>\n",
       "      <th>Cabin</th>\n",
       "      <th>Embarked</th>\n",
       "    </tr>\n",
       "  </thead>\n",
       "  <tbody>\n",
       "    <tr>\n",
       "      <th>0</th>\n",
       "      <td>892</td>\n",
       "      <td>3</td>\n",
       "      <td>Kelly, Mr. James</td>\n",
       "      <td>male</td>\n",
       "      <td>34.5</td>\n",
       "      <td>0</td>\n",
       "      <td>0</td>\n",
       "      <td>330911</td>\n",
       "      <td>7.8292</td>\n",
       "      <td>NaN</td>\n",
       "      <td>Q</td>\n",
       "    </tr>\n",
       "    <tr>\n",
       "      <th>1</th>\n",
       "      <td>893</td>\n",
       "      <td>3</td>\n",
       "      <td>Wilkes, Mrs. James (Ellen Needs)</td>\n",
       "      <td>female</td>\n",
       "      <td>47.0</td>\n",
       "      <td>1</td>\n",
       "      <td>0</td>\n",
       "      <td>363272</td>\n",
       "      <td>7.0000</td>\n",
       "      <td>NaN</td>\n",
       "      <td>S</td>\n",
       "    </tr>\n",
       "    <tr>\n",
       "      <th>2</th>\n",
       "      <td>894</td>\n",
       "      <td>2</td>\n",
       "      <td>Myles, Mr. Thomas Francis</td>\n",
       "      <td>male</td>\n",
       "      <td>62.0</td>\n",
       "      <td>0</td>\n",
       "      <td>0</td>\n",
       "      <td>240276</td>\n",
       "      <td>9.6875</td>\n",
       "      <td>NaN</td>\n",
       "      <td>Q</td>\n",
       "    </tr>\n",
       "    <tr>\n",
       "      <th>3</th>\n",
       "      <td>895</td>\n",
       "      <td>3</td>\n",
       "      <td>Wirz, Mr. Albert</td>\n",
       "      <td>male</td>\n",
       "      <td>27.0</td>\n",
       "      <td>0</td>\n",
       "      <td>0</td>\n",
       "      <td>315154</td>\n",
       "      <td>8.6625</td>\n",
       "      <td>NaN</td>\n",
       "      <td>S</td>\n",
       "    </tr>\n",
       "    <tr>\n",
       "      <th>4</th>\n",
       "      <td>896</td>\n",
       "      <td>3</td>\n",
       "      <td>Hirvonen, Mrs. Alexander (Helga E Lindqvist)</td>\n",
       "      <td>female</td>\n",
       "      <td>22.0</td>\n",
       "      <td>1</td>\n",
       "      <td>1</td>\n",
       "      <td>3101298</td>\n",
       "      <td>12.2875</td>\n",
       "      <td>NaN</td>\n",
       "      <td>S</td>\n",
       "    </tr>\n",
       "  </tbody>\n",
       "</table>\n",
       "</div>"
      ],
      "text/plain": [
       "   PassengerId  Pclass                                          Name     Sex  \\\n",
       "0          892       3                              Kelly, Mr. James    male   \n",
       "1          893       3              Wilkes, Mrs. James (Ellen Needs)  female   \n",
       "2          894       2                     Myles, Mr. Thomas Francis    male   \n",
       "3          895       3                              Wirz, Mr. Albert    male   \n",
       "4          896       3  Hirvonen, Mrs. Alexander (Helga E Lindqvist)  female   \n",
       "\n",
       "    Age  SibSp  Parch   Ticket     Fare Cabin Embarked  \n",
       "0  34.5      0      0   330911   7.8292   NaN        Q  \n",
       "1  47.0      1      0   363272   7.0000   NaN        S  \n",
       "2  62.0      0      0   240276   9.6875   NaN        Q  \n",
       "3  27.0      0      0   315154   8.6625   NaN        S  \n",
       "4  22.0      1      1  3101298  12.2875   NaN        S  "
      ]
     },
     "execution_count": 2,
     "metadata": {},
     "output_type": "execute_result"
    }
   ],
   "source": [
    "testdata.head()"
   ]
  },
  {
   "cell_type": "code",
   "execution_count": 3,
   "id": "9c89b978",
   "metadata": {
    "execution": {
     "iopub.execute_input": "2023-03-22T12:59:40.604710Z",
     "iopub.status.busy": "2023-03-22T12:59:40.603178Z",
     "iopub.status.idle": "2023-03-22T12:59:40.621929Z",
     "shell.execute_reply": "2023-03-22T12:59:40.620569Z"
    },
    "papermill": {
     "duration": 0.03374,
     "end_time": "2023-03-22T12:59:40.624548",
     "exception": false,
     "start_time": "2023-03-22T12:59:40.590808",
     "status": "completed"
    },
    "tags": []
   },
   "outputs": [
    {
     "data": {
      "text/html": [
       "<div>\n",
       "<style scoped>\n",
       "    .dataframe tbody tr th:only-of-type {\n",
       "        vertical-align: middle;\n",
       "    }\n",
       "\n",
       "    .dataframe tbody tr th {\n",
       "        vertical-align: top;\n",
       "    }\n",
       "\n",
       "    .dataframe thead th {\n",
       "        text-align: right;\n",
       "    }\n",
       "</style>\n",
       "<table border=\"1\" class=\"dataframe\">\n",
       "  <thead>\n",
       "    <tr style=\"text-align: right;\">\n",
       "      <th></th>\n",
       "      <th>PassengerId</th>\n",
       "      <th>Survived</th>\n",
       "      <th>Pclass</th>\n",
       "      <th>Name</th>\n",
       "      <th>Sex</th>\n",
       "      <th>Age</th>\n",
       "      <th>SibSp</th>\n",
       "      <th>Parch</th>\n",
       "      <th>Ticket</th>\n",
       "      <th>Fare</th>\n",
       "      <th>Cabin</th>\n",
       "      <th>Embarked</th>\n",
       "    </tr>\n",
       "  </thead>\n",
       "  <tbody>\n",
       "    <tr>\n",
       "      <th>0</th>\n",
       "      <td>1</td>\n",
       "      <td>0</td>\n",
       "      <td>3</td>\n",
       "      <td>Braund, Mr. Owen Harris</td>\n",
       "      <td>male</td>\n",
       "      <td>22.0</td>\n",
       "      <td>1</td>\n",
       "      <td>0</td>\n",
       "      <td>A/5 21171</td>\n",
       "      <td>7.2500</td>\n",
       "      <td>NaN</td>\n",
       "      <td>S</td>\n",
       "    </tr>\n",
       "    <tr>\n",
       "      <th>1</th>\n",
       "      <td>2</td>\n",
       "      <td>1</td>\n",
       "      <td>1</td>\n",
       "      <td>Cumings, Mrs. John Bradley (Florence Briggs Th...</td>\n",
       "      <td>female</td>\n",
       "      <td>38.0</td>\n",
       "      <td>1</td>\n",
       "      <td>0</td>\n",
       "      <td>PC 17599</td>\n",
       "      <td>71.2833</td>\n",
       "      <td>C85</td>\n",
       "      <td>C</td>\n",
       "    </tr>\n",
       "    <tr>\n",
       "      <th>2</th>\n",
       "      <td>3</td>\n",
       "      <td>1</td>\n",
       "      <td>3</td>\n",
       "      <td>Heikkinen, Miss. Laina</td>\n",
       "      <td>female</td>\n",
       "      <td>26.0</td>\n",
       "      <td>0</td>\n",
       "      <td>0</td>\n",
       "      <td>STON/O2. 3101282</td>\n",
       "      <td>7.9250</td>\n",
       "      <td>NaN</td>\n",
       "      <td>S</td>\n",
       "    </tr>\n",
       "    <tr>\n",
       "      <th>3</th>\n",
       "      <td>4</td>\n",
       "      <td>1</td>\n",
       "      <td>1</td>\n",
       "      <td>Futrelle, Mrs. Jacques Heath (Lily May Peel)</td>\n",
       "      <td>female</td>\n",
       "      <td>35.0</td>\n",
       "      <td>1</td>\n",
       "      <td>0</td>\n",
       "      <td>113803</td>\n",
       "      <td>53.1000</td>\n",
       "      <td>C123</td>\n",
       "      <td>S</td>\n",
       "    </tr>\n",
       "    <tr>\n",
       "      <th>4</th>\n",
       "      <td>5</td>\n",
       "      <td>0</td>\n",
       "      <td>3</td>\n",
       "      <td>Allen, Mr. William Henry</td>\n",
       "      <td>male</td>\n",
       "      <td>35.0</td>\n",
       "      <td>0</td>\n",
       "      <td>0</td>\n",
       "      <td>373450</td>\n",
       "      <td>8.0500</td>\n",
       "      <td>NaN</td>\n",
       "      <td>S</td>\n",
       "    </tr>\n",
       "  </tbody>\n",
       "</table>\n",
       "</div>"
      ],
      "text/plain": [
       "   PassengerId  Survived  Pclass  \\\n",
       "0            1         0       3   \n",
       "1            2         1       1   \n",
       "2            3         1       3   \n",
       "3            4         1       1   \n",
       "4            5         0       3   \n",
       "\n",
       "                                                Name     Sex   Age  SibSp  \\\n",
       "0                            Braund, Mr. Owen Harris    male  22.0      1   \n",
       "1  Cumings, Mrs. John Bradley (Florence Briggs Th...  female  38.0      1   \n",
       "2                             Heikkinen, Miss. Laina  female  26.0      0   \n",
       "3       Futrelle, Mrs. Jacques Heath (Lily May Peel)  female  35.0      1   \n",
       "4                           Allen, Mr. William Henry    male  35.0      0   \n",
       "\n",
       "   Parch            Ticket     Fare Cabin Embarked  \n",
       "0      0         A/5 21171   7.2500   NaN        S  \n",
       "1      0          PC 17599  71.2833   C85        C  \n",
       "2      0  STON/O2. 3101282   7.9250   NaN        S  \n",
       "3      0            113803  53.1000  C123        S  \n",
       "4      0            373450   8.0500   NaN        S  "
      ]
     },
     "execution_count": 3,
     "metadata": {},
     "output_type": "execute_result"
    }
   ],
   "source": [
    "traindata.head()"
   ]
  },
  {
   "cell_type": "code",
   "execution_count": 4,
   "id": "0c8e264f",
   "metadata": {
    "execution": {
     "iopub.execute_input": "2023-03-22T12:59:40.650381Z",
     "iopub.status.busy": "2023-03-22T12:59:40.649955Z",
     "iopub.status.idle": "2023-03-22T12:59:40.657209Z",
     "shell.execute_reply": "2023-03-22T12:59:40.655890Z"
    },
    "papermill": {
     "duration": 0.023984,
     "end_time": "2023-03-22T12:59:40.659662",
     "exception": false,
     "start_time": "2023-03-22T12:59:40.635678",
     "status": "completed"
    },
    "tags": []
   },
   "outputs": [
    {
     "data": {
      "text/plain": [
       "(418, 11)"
      ]
     },
     "execution_count": 4,
     "metadata": {},
     "output_type": "execute_result"
    }
   ],
   "source": [
    "testdata.shape"
   ]
  },
  {
   "cell_type": "code",
   "execution_count": 5,
   "id": "929d1ac2",
   "metadata": {
    "execution": {
     "iopub.execute_input": "2023-03-22T12:59:40.684967Z",
     "iopub.status.busy": "2023-03-22T12:59:40.684216Z",
     "iopub.status.idle": "2023-03-22T12:59:40.692137Z",
     "shell.execute_reply": "2023-03-22T12:59:40.690476Z"
    },
    "papermill": {
     "duration": 0.023037,
     "end_time": "2023-03-22T12:59:40.694426",
     "exception": false,
     "start_time": "2023-03-22T12:59:40.671389",
     "status": "completed"
    },
    "tags": []
   },
   "outputs": [
    {
     "data": {
      "text/plain": [
       "(891, 12)"
      ]
     },
     "execution_count": 5,
     "metadata": {},
     "output_type": "execute_result"
    }
   ],
   "source": [
    "traindata.shape"
   ]
  },
  {
   "cell_type": "code",
   "execution_count": 6,
   "id": "7333c5f1",
   "metadata": {
    "execution": {
     "iopub.execute_input": "2023-03-22T12:59:40.719033Z",
     "iopub.status.busy": "2023-03-22T12:59:40.718458Z",
     "iopub.status.idle": "2023-03-22T12:59:40.730709Z",
     "shell.execute_reply": "2023-03-22T12:59:40.729443Z"
    },
    "papermill": {
     "duration": 0.027419,
     "end_time": "2023-03-22T12:59:40.733203",
     "exception": false,
     "start_time": "2023-03-22T12:59:40.705784",
     "status": "completed"
    },
    "tags": []
   },
   "outputs": [
    {
     "data": {
      "text/plain": [
       "PassengerId     0.000000\n",
       "Survived        0.000000\n",
       "Pclass          0.000000\n",
       "Name            0.000000\n",
       "Sex             0.000000\n",
       "Age            19.865320\n",
       "SibSp           0.000000\n",
       "Parch           0.000000\n",
       "Ticket          0.000000\n",
       "Fare            0.000000\n",
       "Cabin          77.104377\n",
       "Embarked        0.224467\n",
       "dtype: float64"
      ]
     },
     "execution_count": 6,
     "metadata": {},
     "output_type": "execute_result"
    }
   ],
   "source": [
    "traindata.isnull().sum()/len(traindata)*100"
   ]
  },
  {
   "cell_type": "code",
   "execution_count": 7,
   "id": "ae9cfaa3",
   "metadata": {
    "execution": {
     "iopub.execute_input": "2023-03-22T12:59:40.759899Z",
     "iopub.status.busy": "2023-03-22T12:59:40.759180Z",
     "iopub.status.idle": "2023-03-22T12:59:41.314146Z",
     "shell.execute_reply": "2023-03-22T12:59:41.312773Z"
    },
    "papermill": {
     "duration": 0.572513,
     "end_time": "2023-03-22T12:59:41.317380",
     "exception": false,
     "start_time": "2023-03-22T12:59:40.744867",
     "status": "completed"
    },
    "tags": []
   },
   "outputs": [
    {
     "data": {
      "text/plain": [
       "<seaborn.axisgrid.FacetGrid at 0x7f307b1d0810>"
      ]
     },
     "execution_count": 7,
     "metadata": {},
     "output_type": "execute_result"
    },
    {
     "data": {
      "image/png": "[encoded data removed]",
      "text/plain": [
       "<Figure size 500x500 with 1 Axes>"
      ]
     },
     "metadata": {},
     "output_type": "display_data"
    }
   ],
   "source": [
    "sns.displot(data=traindata,x=\"Fare\")"
   ]
  },
  {
   "cell_type": "code",
   "execution_count": 8,
   "id": "73bd7526",
   "metadata": {
    "execution": {
     "iopub.execute_input": "2023-03-22T12:59:41.344359Z",
     "iopub.status.busy": "2023-03-22T12:59:41.343152Z",
     "iopub.status.idle": "2023-03-22T12:59:41.353643Z",
     "shell.execute_reply": "2023-03-22T12:59:41.352389Z"
    },
    "papermill": {
     "duration": 0.026919,
     "end_time": "2023-03-22T12:59:41.356475",
     "exception": false,
     "start_time": "2023-03-22T12:59:41.329556",
     "status": "completed"
    },
    "tags": []
   },
   "outputs": [
    {
     "data": {
      "text/plain": [
       "PassengerId     0.000000\n",
       "Pclass          0.000000\n",
       "Name            0.000000\n",
       "Sex             0.000000\n",
       "Age            20.574163\n",
       "SibSp           0.000000\n",
       "Parch           0.000000\n",
       "Ticket          0.000000\n",
       "Fare            0.239234\n",
       "Cabin          78.229665\n",
       "Embarked        0.000000\n",
       "dtype: float64"
      ]
     },
     "execution_count": 8,
     "metadata": {},
     "output_type": "execute_result"
    }
   ],
   "source": [
    "testdata.isnull().sum()/len(testdata)*100"
   ]
  },
  {
   "cell_type": "code",
   "execution_count": 9,
   "id": "0b9000e9",
   "metadata": {
    "execution": {
     "iopub.execute_input": "2023-03-22T12:59:41.383989Z",
     "iopub.status.busy": "2023-03-22T12:59:41.383207Z",
     "iopub.status.idle": "2023-03-22T12:59:41.850191Z",
     "shell.execute_reply": "2023-03-22T12:59:41.848856Z"
    },
    "papermill": {
     "duration": 0.48351,
     "end_time": "2023-03-22T12:59:41.853077",
     "exception": false,
     "start_time": "2023-03-22T12:59:41.369567",
     "status": "completed"
    },
    "tags": []
   },
   "outputs": [
    {
     "data": {
      "text/plain": [
       "<AxesSubplot:>"
      ]
     },
     "execution_count": 9,
     "metadata": {},
     "output_type": "execute_result"
    },
    {
     "data": {
      "image/png": "[encoded data removed]",
      "text/plain": [
       "<Figure size 640x480 with 2 Axes>"
      ]
     },
     "metadata": {},
     "output_type": "display_data"
    }
   ],
   "source": [
    "sns.heatmap(testdata.isnull())"
   ]
  },
  {
   "cell_type": "code",
   "execution_count": 10,
   "id": "41ed52a2",
   "metadata": {
    "execution": {
     "iopub.execute_input": "2023-03-22T12:59:41.881065Z",
     "iopub.status.busy": "2023-03-22T12:59:41.880600Z",
     "iopub.status.idle": "2023-03-22T12:59:41.905228Z",
     "shell.execute_reply": "2023-03-22T12:59:41.903810Z"
    },
    "papermill": {
     "duration": 0.041934,
     "end_time": "2023-03-22T12:59:41.907986",
     "exception": false,
     "start_time": "2023-03-22T12:59:41.866052",
     "status": "completed"
    },
    "tags": []
   },
   "outputs": [
    {
     "data": {
      "text/html": [
       "<div>\n",
       "<style scoped>\n",
       "    .dataframe tbody tr th:only-of-type {\n",
       "        vertical-align: middle;\n",
       "    }\n",
       "\n",
       "    .dataframe tbody tr th {\n",
       "        vertical-align: top;\n",
       "    }\n",
       "\n",
       "    .dataframe thead th {\n",
       "        text-align: right;\n",
       "    }\n",
       "</style>\n",
       "<table border=\"1\" class=\"dataframe\">\n",
       "  <thead>\n",
       "    <tr style=\"text-align: right;\">\n",
       "      <th></th>\n",
       "      <th>PassengerId</th>\n",
       "      <th>Survived</th>\n",
       "      <th>Pclass</th>\n",
       "      <th>Sex</th>\n",
       "      <th>Age</th>\n",
       "      <th>SibSp</th>\n",
       "      <th>Parch</th>\n",
       "      <th>Fare</th>\n",
       "      <th>Embarked</th>\n",
       "    </tr>\n",
       "  </thead>\n",
       "  <tbody>\n",
       "    <tr>\n",
       "      <th>0</th>\n",
       "      <td>1</td>\n",
       "      <td>0</td>\n",
       "      <td>3</td>\n",
       "      <td>male</td>\n",
       "      <td>22.0</td>\n",
       "      <td>1</td>\n",
       "      <td>0</td>\n",
       "      <td>7.2500</td>\n",
       "      <td>S</td>\n",
       "    </tr>\n",
       "    <tr>\n",
       "      <th>1</th>\n",
       "      <td>2</td>\n",
       "      <td>1</td>\n",
       "      <td>1</td>\n",
       "      <td>female</td>\n",
       "      <td>38.0</td>\n",
       "      <td>1</td>\n",
       "      <td>0</td>\n",
       "      <td>71.2833</td>\n",
       "      <td>C</td>\n",
       "    </tr>\n",
       "    <tr>\n",
       "      <th>2</th>\n",
       "      <td>3</td>\n",
       "      <td>1</td>\n",
       "      <td>3</td>\n",
       "      <td>female</td>\n",
       "      <td>26.0</td>\n",
       "      <td>0</td>\n",
       "      <td>0</td>\n",
       "      <td>7.9250</td>\n",
       "      <td>S</td>\n",
       "    </tr>\n",
       "    <tr>\n",
       "      <th>3</th>\n",
       "      <td>4</td>\n",
       "      <td>1</td>\n",
       "      <td>1</td>\n",
       "      <td>female</td>\n",
       "      <td>35.0</td>\n",
       "      <td>1</td>\n",
       "      <td>0</td>\n",
       "      <td>53.1000</td>\n",
       "      <td>S</td>\n",
       "    </tr>\n",
       "    <tr>\n",
       "      <th>4</th>\n",
       "      <td>5</td>\n",
       "      <td>0</td>\n",
       "      <td>3</td>\n",
       "      <td>male</td>\n",
       "      <td>35.0</td>\n",
       "      <td>0</td>\n",
       "      <td>0</td>\n",
       "      <td>8.0500</td>\n",
       "      <td>S</td>\n",
       "    </tr>\n",
       "    <tr>\n",
       "      <th>...</th>\n",
       "      <td>...</td>\n",
       "      <td>...</td>\n",
       "      <td>...</td>\n",
       "      <td>...</td>\n",
       "      <td>...</td>\n",
       "      <td>...</td>\n",
       "      <td>...</td>\n",
       "      <td>...</td>\n",
       "      <td>...</td>\n",
       "    </tr>\n",
       "    <tr>\n",
       "      <th>886</th>\n",
       "      <td>887</td>\n",
       "      <td>0</td>\n",
       "      <td>2</td>\n",
       "      <td>male</td>\n",
       "      <td>27.0</td>\n",
       "      <td>0</td>\n",
       "      <td>0</td>\n",
       "      <td>13.0000</td>\n",
       "      <td>S</td>\n",
       "    </tr>\n",
       "    <tr>\n",
       "      <th>887</th>\n",
       "      <td>888</td>\n",
       "      <td>1</td>\n",
       "      <td>1</td>\n",
       "      <td>female</td>\n",
       "      <td>19.0</td>\n",
       "      <td>0</td>\n",
       "      <td>0</td>\n",
       "      <td>30.0000</td>\n",
       "      <td>S</td>\n",
       "    </tr>\n",
       "    <tr>\n",
       "      <th>888</th>\n",
       "      <td>889</td>\n",
       "      <td>0</td>\n",
       "      <td>3</td>\n",
       "      <td>female</td>\n",
       "      <td>NaN</td>\n",
       "      <td>1</td>\n",
       "      <td>2</td>\n",
       "      <td>23.4500</td>\n",
       "      <td>S</td>\n",
       "    </tr>\n",
       "    <tr>\n",
       "      <th>889</th>\n",
       "      <td>890</td>\n",
       "      <td>1</td>\n",
       "      <td>1</td>\n",
       "      <td>male</td>\n",
       "      <td>26.0</td>\n",
       "      <td>0</td>\n",
       "      <td>0</td>\n",
       "      <td>30.0000</td>\n",
       "      <td>C</td>\n",
       "    </tr>\n",
       "    <tr>\n",
       "      <th>890</th>\n",
       "      <td>891</td>\n",
       "      <td>0</td>\n",
       "      <td>3</td>\n",
       "      <td>male</td>\n",
       "      <td>32.0</td>\n",
       "      <td>0</td>\n",
       "      <td>0</td>\n",
       "      <td>7.7500</td>\n",
       "      <td>Q</td>\n",
       "    </tr>\n",
       "  </tbody>\n",
       "</table>\n",
       "<p>891 rows × 9 columns</p>\n",
       "</div>"
      ],
      "text/plain": [
       "     PassengerId  Survived  Pclass     Sex   Age  SibSp  Parch     Fare  \\\n",
       "0              1         0       3    male  22.0      1      0   7.2500   \n",
       "1              2         1       1  female  38.0      1      0  71.2833   \n",
       "2              3         1       3  female  26.0      0      0   7.9250   \n",
       "3              4         1       1  female  35.0      1      0  53.1000   \n",
       "4              5         0       3    male  35.0      0      0   8.0500   \n",
       "..           ...       ...     ...     ...   ...    ...    ...      ...   \n",
       "886          887         0       2    male  27.0      0      0  13.0000   \n",
       "887          888         1       1  female  19.0      0      0  30.0000   \n",
       "888          889         0       3  female   NaN      1      2  23.4500   \n",
       "889          890         1       1    male  26.0      0      0  30.0000   \n",
       "890          891         0       3    male  32.0      0      0   7.7500   \n",
       "\n",
       "    Embarked  \n",
       "0          S  \n",
       "1          C  \n",
       "2          S  \n",
       "3          S  \n",
       "4          S  \n",
       "..       ...  \n",
       "886        S  \n",
       "887        S  \n",
       "888        S  \n",
       "889        C  \n",
       "890        Q  \n",
       "\n",
       "[891 rows x 9 columns]"
      ]
     },
     "execution_count": 10,
     "metadata": {},
     "output_type": "execute_result"
    }
   ],
   "source": [
    "traindata.drop([\"Cabin\",\"Name\",\"Ticket\"],axis = 1, inplace = True)\n",
    "traindata"
   ]
  },
  {
   "cell_type": "code",
   "execution_count": 11,
   "id": "d41cfeba",
   "metadata": {
    "execution": {
     "iopub.execute_input": "2023-03-22T12:59:41.936854Z",
     "iopub.status.busy": "2023-03-22T12:59:41.936362Z",
     "iopub.status.idle": "2023-03-22T12:59:42.110137Z",
     "shell.execute_reply": "2023-03-22T12:59:42.108680Z"
    },
    "papermill": {
     "duration": 0.191914,
     "end_time": "2023-03-22T12:59:42.113303",
     "exception": false,
     "start_time": "2023-03-22T12:59:41.921389",
     "status": "completed"
    },
    "tags": []
   },
   "outputs": [],
   "source": [
    "from sklearn import preprocessing\n",
    "label_encoder = preprocessing.LabelEncoder()"
   ]
  },
  {
   "cell_type": "code",
   "execution_count": 12,
   "id": "d2de67eb",
   "metadata": {
    "execution": {
     "iopub.execute_input": "2023-03-22T12:59:42.143041Z",
     "iopub.status.busy": "2023-03-22T12:59:42.142555Z",
     "iopub.status.idle": "2023-03-22T12:59:42.151216Z",
     "shell.execute_reply": "2023-03-22T12:59:42.149797Z"
    },
    "papermill": {
     "duration": 0.026309,
     "end_time": "2023-03-22T12:59:42.153844",
     "exception": false,
     "start_time": "2023-03-22T12:59:42.127535",
     "status": "completed"
    },
    "tags": []
   },
   "outputs": [
    {
     "data": {
      "text/plain": [
       "array(['male', 'female'], dtype=object)"
      ]
     },
     "execution_count": 12,
     "metadata": {},
     "output_type": "execute_result"
    }
   ],
   "source": [
    "traindata[\"Sex\"].unique()"
   ]
  },
  {
   "cell_type": "code",
   "execution_count": 13,
   "id": "8530be1f",
   "metadata": {
    "execution": {
     "iopub.execute_input": "2023-03-22T12:59:42.182395Z",
     "iopub.status.busy": "2023-03-22T12:59:42.181981Z",
     "iopub.status.idle": "2023-03-22T12:59:42.190514Z",
     "shell.execute_reply": "2023-03-22T12:59:42.189034Z"
    },
    "papermill": {
     "duration": 0.026118,
     "end_time": "2023-03-22T12:59:42.193203",
     "exception": false,
     "start_time": "2023-03-22T12:59:42.167085",
     "status": "completed"
    },
    "tags": []
   },
   "outputs": [
    {
     "data": {
      "text/plain": [
       "array(['S', 'C', 'Q', nan], dtype=object)"
      ]
     },
     "execution_count": 13,
     "metadata": {},
     "output_type": "execute_result"
    }
   ],
   "source": [
    "traindata[\"Embarked\"].unique()"
   ]
  },
  {
   "cell_type": "code",
   "execution_count": 14,
   "id": "45d17e14",
   "metadata": {
    "execution": {
     "iopub.execute_input": "2023-03-22T12:59:42.222724Z",
     "iopub.status.busy": "2023-03-22T12:59:42.222281Z",
     "iopub.status.idle": "2023-03-22T12:59:42.241979Z",
     "shell.execute_reply": "2023-03-22T12:59:42.240777Z"
    },
    "papermill": {
     "duration": 0.037401,
     "end_time": "2023-03-22T12:59:42.244587",
     "exception": false,
     "start_time": "2023-03-22T12:59:42.207186",
     "status": "completed"
    },
    "tags": []
   },
   "outputs": [
    {
     "data": {
      "text/html": [
       "<div>\n",
       "<style scoped>\n",
       "    .dataframe tbody tr th:only-of-type {\n",
       "        vertical-align: middle;\n",
       "    }\n",
       "\n",
       "    .dataframe tbody tr th {\n",
       "        vertical-align: top;\n",
       "    }\n",
       "\n",
       "    .dataframe thead th {\n",
       "        text-align: right;\n",
       "    }\n",
       "</style>\n",
       "<table border=\"1\" class=\"dataframe\">\n",
       "  <thead>\n",
       "    <tr style=\"text-align: right;\">\n",
       "      <th></th>\n",
       "      <th>PassengerId</th>\n",
       "      <th>Survived</th>\n",
       "      <th>Pclass</th>\n",
       "      <th>Sex</th>\n",
       "      <th>Age</th>\n",
       "      <th>SibSp</th>\n",
       "      <th>Parch</th>\n",
       "      <th>Fare</th>\n",
       "      <th>Embarked</th>\n",
       "    </tr>\n",
       "  </thead>\n",
       "  <tbody>\n",
       "    <tr>\n",
       "      <th>0</th>\n",
       "      <td>1</td>\n",
       "      <td>0</td>\n",
       "      <td>3</td>\n",
       "      <td>male</td>\n",
       "      <td>22.0</td>\n",
       "      <td>1</td>\n",
       "      <td>0</td>\n",
       "      <td>7.2500</td>\n",
       "      <td>0.0</td>\n",
       "    </tr>\n",
       "    <tr>\n",
       "      <th>1</th>\n",
       "      <td>2</td>\n",
       "      <td>1</td>\n",
       "      <td>1</td>\n",
       "      <td>female</td>\n",
       "      <td>38.0</td>\n",
       "      <td>1</td>\n",
       "      <td>0</td>\n",
       "      <td>71.2833</td>\n",
       "      <td>1.0</td>\n",
       "    </tr>\n",
       "    <tr>\n",
       "      <th>2</th>\n",
       "      <td>3</td>\n",
       "      <td>1</td>\n",
       "      <td>3</td>\n",
       "      <td>female</td>\n",
       "      <td>26.0</td>\n",
       "      <td>0</td>\n",
       "      <td>0</td>\n",
       "      <td>7.9250</td>\n",
       "      <td>0.0</td>\n",
       "    </tr>\n",
       "    <tr>\n",
       "      <th>3</th>\n",
       "      <td>4</td>\n",
       "      <td>1</td>\n",
       "      <td>1</td>\n",
       "      <td>female</td>\n",
       "      <td>35.0</td>\n",
       "      <td>1</td>\n",
       "      <td>0</td>\n",
       "      <td>53.1000</td>\n",
       "      <td>0.0</td>\n",
       "    </tr>\n",
       "    <tr>\n",
       "      <th>4</th>\n",
       "      <td>5</td>\n",
       "      <td>0</td>\n",
       "      <td>3</td>\n",
       "      <td>male</td>\n",
       "      <td>35.0</td>\n",
       "      <td>0</td>\n",
       "      <td>0</td>\n",
       "      <td>8.0500</td>\n",
       "      <td>0.0</td>\n",
       "    </tr>\n",
       "  </tbody>\n",
       "</table>\n",
       "</div>"
      ],
      "text/plain": [
       "   PassengerId  Survived  Pclass     Sex   Age  SibSp  Parch     Fare  \\\n",
       "0            1         0       3    male  22.0      1      0   7.2500   \n",
       "1            2         1       1  female  38.0      1      0  71.2833   \n",
       "2            3         1       3  female  26.0      0      0   7.9250   \n",
       "3            4         1       1  female  35.0      1      0  53.1000   \n",
       "4            5         0       3    male  35.0      0      0   8.0500   \n",
       "\n",
       "   Embarked  \n",
       "0       0.0  \n",
       "1       1.0  \n",
       "2       0.0  \n",
       "3       0.0  \n",
       "4       0.0  "
      ]
     },
     "execution_count": 14,
     "metadata": {},
     "output_type": "execute_result"
    }
   ],
   "source": [
    "temp = lambda x:x.map({'S':0,'C':1,'Q':2})\n",
    "traindata['Embarked'] = traindata[['Embarked']].apply(temp)\n",
    "traindata.head()"
   ]
  },
  {
   "cell_type": "code",
   "execution_count": 15,
   "id": "7b7b13bf",
   "metadata": {
    "execution": {
     "iopub.execute_input": "2023-03-22T12:59:42.275095Z",
     "iopub.status.busy": "2023-03-22T12:59:42.274238Z",
     "iopub.status.idle": "2023-03-22T12:59:42.285356Z",
     "shell.execute_reply": "2023-03-22T12:59:42.283897Z"
    },
    "papermill": {
     "duration": 0.028741,
     "end_time": "2023-03-22T12:59:42.287867",
     "exception": false,
     "start_time": "2023-03-22T12:59:42.259126",
     "status": "completed"
    },
    "tags": []
   },
   "outputs": [
    {
     "data": {
      "text/plain": [
       "array([1, 0])"
      ]
     },
     "execution_count": 15,
     "metadata": {},
     "output_type": "execute_result"
    }
   ],
   "source": [
    "traindata['Sex'] = label_encoder.fit_transform(traindata['Sex'])\n",
    "traindata[\"Sex\"].unique()"
   ]
  },
  {
   "cell_type": "code",
   "execution_count": 16,
   "id": "9ddd4241",
   "metadata": {
    "execution": {
     "iopub.execute_input": "2023-03-22T12:59:42.317540Z",
     "iopub.status.busy": "2023-03-22T12:59:42.317088Z",
     "iopub.status.idle": "2023-03-22T12:59:42.326553Z",
     "shell.execute_reply": "2023-03-22T12:59:42.325317Z"
    },
    "papermill": {
     "duration": 0.027645,
     "end_time": "2023-03-22T12:59:42.329175",
     "exception": false,
     "start_time": "2023-03-22T12:59:42.301530",
     "status": "completed"
    },
    "tags": []
   },
   "outputs": [
    {
     "data": {
      "text/plain": [
       "array([0, 1, 2, 3])"
      ]
     },
     "execution_count": 16,
     "metadata": {},
     "output_type": "execute_result"
    }
   ],
   "source": [
    "traindata['Embarked'] = label_encoder.fit_transform(traindata['Embarked'])\n",
    "traindata[\"Embarked\"].unique()"
   ]
  },
  {
   "cell_type": "code",
   "execution_count": 17,
   "id": "ab718a37",
   "metadata": {
    "execution": {
     "iopub.execute_input": "2023-03-22T12:59:42.359256Z",
     "iopub.status.busy": "2023-03-22T12:59:42.358827Z",
     "iopub.status.idle": "2023-03-22T12:59:42.370647Z",
     "shell.execute_reply": "2023-03-22T12:59:42.369188Z"
    },
    "papermill": {
     "duration": 0.030012,
     "end_time": "2023-03-22T12:59:42.373469",
     "exception": false,
     "start_time": "2023-03-22T12:59:42.343457",
     "status": "completed"
    },
    "tags": []
   },
   "outputs": [
    {
     "data": {
      "text/plain": [
       "PassengerId     0.00000\n",
       "Survived        0.00000\n",
       "Pclass          0.00000\n",
       "Sex             0.00000\n",
       "Age            19.86532\n",
       "SibSp           0.00000\n",
       "Parch           0.00000\n",
       "Fare            0.00000\n",
       "Embarked        0.00000\n",
       "dtype: float64"
      ]
     },
     "execution_count": 17,
     "metadata": {},
     "output_type": "execute_result"
    }
   ],
   "source": [
    "traindata.isnull().sum()/len(traindata)*100"
   ]
  },
  {
   "cell_type": "code",
   "execution_count": 18,
   "id": "3389495e",
   "metadata": {
    "execution": {
     "iopub.execute_input": "2023-03-22T12:59:42.405218Z",
     "iopub.status.busy": "2023-03-22T12:59:42.403970Z",
     "iopub.status.idle": "2023-03-22T12:59:42.416932Z",
     "shell.execute_reply": "2023-03-22T12:59:42.415642Z"
    },
    "papermill": {
     "duration": 0.031728,
     "end_time": "2023-03-22T12:59:42.419282",
     "exception": false,
     "start_time": "2023-03-22T12:59:42.387554",
     "status": "completed"
    },
    "tags": []
   },
   "outputs": [
    {
     "data": {
      "text/plain": [
       "PassengerId    0.0\n",
       "Survived       0.0\n",
       "Pclass         0.0\n",
       "Sex            0.0\n",
       "Age            0.0\n",
       "SibSp          0.0\n",
       "Parch          0.0\n",
       "Fare           0.0\n",
       "Embarked       0.0\n",
       "dtype: float64"
      ]
     },
     "execution_count": 18,
     "metadata": {},
     "output_type": "execute_result"
    }
   ],
   "source": [
    "traindata[\"Age\"]=traindata[\"Age\"].fillna(traindata[\"Age\"].mean())\n",
    "traindata.isnull().sum()/len(traindata)*100"
   ]
  },
  {
   "cell_type": "code",
   "execution_count": 19,
   "id": "bc741156",
   "metadata": {
    "execution": {
     "iopub.execute_input": "2023-03-22T12:59:42.449064Z",
     "iopub.status.busy": "2023-03-22T12:59:42.448647Z",
     "iopub.status.idle": "2023-03-22T12:59:42.467856Z",
     "shell.execute_reply": "2023-03-22T12:59:42.466529Z"
    },
    "papermill": {
     "duration": 0.037171,
     "end_time": "2023-03-22T12:59:42.470411",
     "exception": false,
     "start_time": "2023-03-22T12:59:42.433240",
     "status": "completed"
    },
    "tags": []
   },
   "outputs": [
    {
     "data": {
      "text/html": [
       "<div>\n",
       "<style scoped>\n",
       "    .dataframe tbody tr th:only-of-type {\n",
       "        vertical-align: middle;\n",
       "    }\n",
       "\n",
       "    .dataframe tbody tr th {\n",
       "        vertical-align: top;\n",
       "    }\n",
       "\n",
       "    .dataframe thead th {\n",
       "        text-align: right;\n",
       "    }\n",
       "</style>\n",
       "<table border=\"1\" class=\"dataframe\">\n",
       "  <thead>\n",
       "    <tr style=\"text-align: right;\">\n",
       "      <th></th>\n",
       "      <th>PassengerId</th>\n",
       "      <th>Survived</th>\n",
       "      <th>Pclass</th>\n",
       "      <th>Sex</th>\n",
       "      <th>Age</th>\n",
       "      <th>SibSp</th>\n",
       "      <th>Parch</th>\n",
       "      <th>Fare</th>\n",
       "      <th>Embarked</th>\n",
       "    </tr>\n",
       "  </thead>\n",
       "  <tbody>\n",
       "    <tr>\n",
       "      <th>0</th>\n",
       "      <td>1</td>\n",
       "      <td>0</td>\n",
       "      <td>3</td>\n",
       "      <td>1</td>\n",
       "      <td>22.000000</td>\n",
       "      <td>1</td>\n",
       "      <td>0</td>\n",
       "      <td>7.2500</td>\n",
       "      <td>0</td>\n",
       "    </tr>\n",
       "    <tr>\n",
       "      <th>1</th>\n",
       "      <td>2</td>\n",
       "      <td>1</td>\n",
       "      <td>1</td>\n",
       "      <td>0</td>\n",
       "      <td>38.000000</td>\n",
       "      <td>1</td>\n",
       "      <td>0</td>\n",
       "      <td>71.2833</td>\n",
       "      <td>1</td>\n",
       "    </tr>\n",
       "    <tr>\n",
       "      <th>2</th>\n",
       "      <td>3</td>\n",
       "      <td>1</td>\n",
       "      <td>3</td>\n",
       "      <td>0</td>\n",
       "      <td>26.000000</td>\n",
       "      <td>0</td>\n",
       "      <td>0</td>\n",
       "      <td>7.9250</td>\n",
       "      <td>0</td>\n",
       "    </tr>\n",
       "    <tr>\n",
       "      <th>3</th>\n",
       "      <td>4</td>\n",
       "      <td>1</td>\n",
       "      <td>1</td>\n",
       "      <td>0</td>\n",
       "      <td>35.000000</td>\n",
       "      <td>1</td>\n",
       "      <td>0</td>\n",
       "      <td>53.1000</td>\n",
       "      <td>0</td>\n",
       "    </tr>\n",
       "    <tr>\n",
       "      <th>4</th>\n",
       "      <td>5</td>\n",
       "      <td>0</td>\n",
       "      <td>3</td>\n",
       "      <td>1</td>\n",
       "      <td>35.000000</td>\n",
       "      <td>0</td>\n",
       "      <td>0</td>\n",
       "      <td>8.0500</td>\n",
       "      <td>0</td>\n",
       "    </tr>\n",
       "    <tr>\n",
       "      <th>...</th>\n",
       "      <td>...</td>\n",
       "      <td>...</td>\n",
       "      <td>...</td>\n",
       "      <td>...</td>\n",
       "      <td>...</td>\n",
       "      <td>...</td>\n",
       "      <td>...</td>\n",
       "      <td>...</td>\n",
       "      <td>...</td>\n",
       "    </tr>\n",
       "    <tr>\n",
       "      <th>886</th>\n",
       "      <td>887</td>\n",
       "      <td>0</td>\n",
       "      <td>2</td>\n",
       "      <td>1</td>\n",
       "      <td>27.000000</td>\n",
       "      <td>0</td>\n",
       "      <td>0</td>\n",
       "      <td>13.0000</td>\n",
       "      <td>0</td>\n",
       "    </tr>\n",
       "    <tr>\n",
       "      <th>887</th>\n",
       "      <td>888</td>\n",
       "      <td>1</td>\n",
       "      <td>1</td>\n",
       "      <td>0</td>\n",
       "      <td>19.000000</td>\n",
       "      <td>0</td>\n",
       "      <td>0</td>\n",
       "      <td>30.0000</td>\n",
       "      <td>0</td>\n",
       "    </tr>\n",
       "    <tr>\n",
       "      <th>888</th>\n",
       "      <td>889</td>\n",
       "      <td>0</td>\n",
       "      <td>3</td>\n",
       "      <td>0</td>\n",
       "      <td>29.699118</td>\n",
       "      <td>1</td>\n",
       "      <td>2</td>\n",
       "      <td>23.4500</td>\n",
       "      <td>0</td>\n",
       "    </tr>\n",
       "    <tr>\n",
       "      <th>889</th>\n",
       "      <td>890</td>\n",
       "      <td>1</td>\n",
       "      <td>1</td>\n",
       "      <td>1</td>\n",
       "      <td>26.000000</td>\n",
       "      <td>0</td>\n",
       "      <td>0</td>\n",
       "      <td>30.0000</td>\n",
       "      <td>1</td>\n",
       "    </tr>\n",
       "    <tr>\n",
       "      <th>890</th>\n",
       "      <td>891</td>\n",
       "      <td>0</td>\n",
       "      <td>3</td>\n",
       "      <td>1</td>\n",
       "      <td>32.000000</td>\n",
       "      <td>0</td>\n",
       "      <td>0</td>\n",
       "      <td>7.7500</td>\n",
       "      <td>2</td>\n",
       "    </tr>\n",
       "  </tbody>\n",
       "</table>\n",
       "<p>891 rows × 9 columns</p>\n",
       "</div>"
      ],
      "text/plain": [
       "     PassengerId  Survived  Pclass  Sex        Age  SibSp  Parch     Fare  \\\n",
       "0              1         0       3    1  22.000000      1      0   7.2500   \n",
       "1              2         1       1    0  38.000000      1      0  71.2833   \n",
       "2              3         1       3    0  26.000000      0      0   7.9250   \n",
       "3              4         1       1    0  35.000000      1      0  53.1000   \n",
       "4              5         0       3    1  35.000000      0      0   8.0500   \n",
       "..           ...       ...     ...  ...        ...    ...    ...      ...   \n",
       "886          887         0       2    1  27.000000      0      0  13.0000   \n",
       "887          888         1       1    0  19.000000      0      0  30.0000   \n",
       "888          889         0       3    0  29.699118      1      2  23.4500   \n",
       "889          890         1       1    1  26.000000      0      0  30.0000   \n",
       "890          891         0       3    1  32.000000      0      0   7.7500   \n",
       "\n",
       "     Embarked  \n",
       "0           0  \n",
       "1           1  \n",
       "2           0  \n",
       "3           0  \n",
       "4           0  \n",
       "..        ...  \n",
       "886         0  \n",
       "887         0  \n",
       "888         0  \n",
       "889         1  \n",
       "890         2  \n",
       "\n",
       "[891 rows x 9 columns]"
      ]
     },
     "execution_count": 19,
     "metadata": {},
     "output_type": "execute_result"
    }
   ],
   "source": [
    "traindata"
   ]
  },
  {
   "cell_type": "code",
   "execution_count": 20,
   "id": "d45fd1eb",
   "metadata": {
    "execution": {
     "iopub.execute_input": "2023-03-22T12:59:42.501563Z",
     "iopub.status.busy": "2023-03-22T12:59:42.501092Z",
     "iopub.status.idle": "2023-03-22T12:59:42.508661Z",
     "shell.execute_reply": "2023-03-22T12:59:42.507098Z"
    },
    "papermill": {
     "duration": 0.026291,
     "end_time": "2023-03-22T12:59:42.511247",
     "exception": false,
     "start_time": "2023-03-22T12:59:42.484956",
     "status": "completed"
    },
    "tags": []
   },
   "outputs": [],
   "source": [
    "traindata = traindata.set_index(\"PassengerId\")"
   ]
  },
  {
   "cell_type": "code",
   "execution_count": 21,
   "id": "95f1bfe3",
   "metadata": {
    "execution": {
     "iopub.execute_input": "2023-03-22T12:59:42.542412Z",
     "iopub.status.busy": "2023-03-22T12:59:42.541951Z",
     "iopub.status.idle": "2023-03-22T12:59:42.549191Z",
     "shell.execute_reply": "2023-03-22T12:59:42.547944Z"
    },
    "papermill": {
     "duration": 0.025752,
     "end_time": "2023-03-22T12:59:42.551680",
     "exception": false,
     "start_time": "2023-03-22T12:59:42.525928",
     "status": "completed"
    },
    "tags": []
   },
   "outputs": [],
   "source": [
    "X = traindata.drop(\"Survived\",axis=1)\n",
    "y = traindata[\"Survived\"]"
   ]
  },
  {
   "cell_type": "code",
   "execution_count": 22,
   "id": "c6ca3b47",
   "metadata": {
    "execution": {
     "iopub.execute_input": "2023-03-22T12:59:42.582355Z",
     "iopub.status.busy": "2023-03-22T12:59:42.581922Z",
     "iopub.status.idle": "2023-03-22T12:59:42.596592Z",
     "shell.execute_reply": "2023-03-22T12:59:42.595188Z"
    },
    "papermill": {
     "duration": 0.03314,
     "end_time": "2023-03-22T12:59:42.599144",
     "exception": false,
     "start_time": "2023-03-22T12:59:42.566004",
     "status": "completed"
    },
    "tags": []
   },
   "outputs": [
    {
     "data": {
      "text/html": [
       "<div>\n",
       "<style scoped>\n",
       "    .dataframe tbody tr th:only-of-type {\n",
       "        vertical-align: middle;\n",
       "    }\n",
       "\n",
       "    .dataframe tbody tr th {\n",
       "        vertical-align: top;\n",
       "    }\n",
       "\n",
       "    .dataframe thead th {\n",
       "        text-align: right;\n",
       "    }\n",
       "</style>\n",
       "<table border=\"1\" class=\"dataframe\">\n",
       "  <thead>\n",
       "    <tr style=\"text-align: right;\">\n",
       "      <th></th>\n",
       "      <th>Pclass</th>\n",
       "      <th>Sex</th>\n",
       "      <th>Age</th>\n",
       "      <th>SibSp</th>\n",
       "      <th>Parch</th>\n",
       "      <th>Fare</th>\n",
       "      <th>Embarked</th>\n",
       "    </tr>\n",
       "    <tr>\n",
       "      <th>PassengerId</th>\n",
       "      <th></th>\n",
       "      <th></th>\n",
       "      <th></th>\n",
       "      <th></th>\n",
       "      <th></th>\n",
       "      <th></th>\n",
       "      <th></th>\n",
       "    </tr>\n",
       "  </thead>\n",
       "  <tbody>\n",
       "    <tr>\n",
       "      <th>1</th>\n",
       "      <td>3</td>\n",
       "      <td>1</td>\n",
       "      <td>22.0</td>\n",
       "      <td>1</td>\n",
       "      <td>0</td>\n",
       "      <td>7.2500</td>\n",
       "      <td>0</td>\n",
       "    </tr>\n",
       "    <tr>\n",
       "      <th>2</th>\n",
       "      <td>1</td>\n",
       "      <td>0</td>\n",
       "      <td>38.0</td>\n",
       "      <td>1</td>\n",
       "      <td>0</td>\n",
       "      <td>71.2833</td>\n",
       "      <td>1</td>\n",
       "    </tr>\n",
       "    <tr>\n",
       "      <th>3</th>\n",
       "      <td>3</td>\n",
       "      <td>0</td>\n",
       "      <td>26.0</td>\n",
       "      <td>0</td>\n",
       "      <td>0</td>\n",
       "      <td>7.9250</td>\n",
       "      <td>0</td>\n",
       "    </tr>\n",
       "    <tr>\n",
       "      <th>4</th>\n",
       "      <td>1</td>\n",
       "      <td>0</td>\n",
       "      <td>35.0</td>\n",
       "      <td>1</td>\n",
       "      <td>0</td>\n",
       "      <td>53.1000</td>\n",
       "      <td>0</td>\n",
       "    </tr>\n",
       "    <tr>\n",
       "      <th>5</th>\n",
       "      <td>3</td>\n",
       "      <td>1</td>\n",
       "      <td>35.0</td>\n",
       "      <td>0</td>\n",
       "      <td>0</td>\n",
       "      <td>8.0500</td>\n",
       "      <td>0</td>\n",
       "    </tr>\n",
       "  </tbody>\n",
       "</table>\n",
       "</div>"
      ],
      "text/plain": [
       "             Pclass  Sex   Age  SibSp  Parch     Fare  Embarked\n",
       "PassengerId                                                    \n",
       "1                 3    1  22.0      1      0   7.2500         0\n",
       "2                 1    0  38.0      1      0  71.2833         1\n",
       "3                 3    0  26.0      0      0   7.9250         0\n",
       "4                 1    0  35.0      1      0  53.1000         0\n",
       "5                 3    1  35.0      0      0   8.0500         0"
      ]
     },
     "execution_count": 22,
     "metadata": {},
     "output_type": "execute_result"
    }
   ],
   "source": [
    "X.head()"
   ]
  },
  {
   "cell_type": "code",
   "execution_count": 23,
   "id": "5b04c996",
   "metadata": {
    "execution": {
     "iopub.execute_input": "2023-03-22T12:59:42.630856Z",
     "iopub.status.busy": "2023-03-22T12:59:42.630385Z",
     "iopub.status.idle": "2023-03-22T12:59:42.638770Z",
     "shell.execute_reply": "2023-03-22T12:59:42.637792Z"
    },
    "papermill": {
     "duration": 0.027248,
     "end_time": "2023-03-22T12:59:42.641165",
     "exception": false,
     "start_time": "2023-03-22T12:59:42.613917",
     "status": "completed"
    },
    "tags": []
   },
   "outputs": [
    {
     "data": {
      "text/plain": [
       "PassengerId\n",
       "1    0\n",
       "2    1\n",
       "3    1\n",
       "4    1\n",
       "5    0\n",
       "Name: Survived, dtype: int64"
      ]
     },
     "execution_count": 23,
     "metadata": {},
     "output_type": "execute_result"
    }
   ],
   "source": [
    "y.head()"
   ]
  },
  {
   "cell_type": "code",
   "execution_count": 24,
   "id": "680413aa",
   "metadata": {
    "execution": {
     "iopub.execute_input": "2023-03-22T12:59:42.672541Z",
     "iopub.status.busy": "2023-03-22T12:59:42.672100Z",
     "iopub.status.idle": "2023-03-22T12:59:42.747222Z",
     "shell.execute_reply": "2023-03-22T12:59:42.745983Z"
    },
    "papermill": {
     "duration": 0.094003,
     "end_time": "2023-03-22T12:59:42.750082",
     "exception": false,
     "start_time": "2023-03-22T12:59:42.656079",
     "status": "completed"
    },
    "tags": []
   },
   "outputs": [],
   "source": [
    "from sklearn.model_selection import train_test_split\n",
    "X_train,X_test,y_train,y_test = train_test_split(X,y,test_size = 0.3)"
   ]
  },
  {
   "cell_type": "code",
   "execution_count": 25,
   "id": "847132b3",
   "metadata": {
    "execution": {
     "iopub.execute_input": "2023-03-22T12:59:42.781219Z",
     "iopub.status.busy": "2023-03-22T12:59:42.780757Z",
     "iopub.status.idle": "2023-03-22T12:59:42.789110Z",
     "shell.execute_reply": "2023-03-22T12:59:42.787349Z"
    },
    "papermill": {
     "duration": 0.027074,
     "end_time": "2023-03-22T12:59:42.791841",
     "exception": false,
     "start_time": "2023-03-22T12:59:42.764767",
     "status": "completed"
    },
    "tags": []
   },
   "outputs": [
    {
     "name": "stdout",
     "output_type": "stream",
     "text": [
      "(623, 7)\n",
      "(623,)\n",
      "(268, 7)\n",
      "(268,)\n"
     ]
    }
   ],
   "source": [
    "print(X_train.shape)\n",
    "print(y_train.shape)\n",
    "print(X_test.shape)\n",
    "print(y_test.shape)"
   ]
  },
  {
   "cell_type": "code",
   "execution_count": 26,
   "id": "c6e12f62",
   "metadata": {
    "execution": {
     "iopub.execute_input": "2023-03-22T12:59:42.826086Z",
     "iopub.status.busy": "2023-03-22T12:59:42.824485Z",
     "iopub.status.idle": "2023-03-22T12:59:43.019202Z",
     "shell.execute_reply": "2023-03-22T12:59:43.018046Z"
    },
    "papermill": {
     "duration": 0.215596,
     "end_time": "2023-03-22T12:59:43.022154",
     "exception": false,
     "start_time": "2023-03-22T12:59:42.806558",
     "status": "completed"
    },
    "tags": []
   },
   "outputs": [],
   "source": [
    "from sklearn.linear_model import LogisticRegression\n",
    "from sklearn.neighbors import KNeighborsClassifier\n",
    "from sklearn.metrics import accuracy_score\n",
    "knn = KNeighborsClassifier()"
   ]
  },
  {
   "cell_type": "code",
   "execution_count": 27,
   "id": "ad719912",
   "metadata": {
    "execution": {
     "iopub.execute_input": "2023-03-22T12:59:43.054106Z",
     "iopub.status.busy": "2023-03-22T12:59:43.053666Z",
     "iopub.status.idle": "2023-03-22T12:59:43.099581Z",
     "shell.execute_reply": "2023-03-22T12:59:43.098463Z"
    },
    "papermill": {
     "duration": 0.06519,
     "end_time": "2023-03-22T12:59:43.102403",
     "exception": false,
     "start_time": "2023-03-22T12:59:43.037213",
     "status": "completed"
    },
    "tags": []
   },
   "outputs": [],
   "source": [
    "from sklearn.tree import DecisionTreeClassifier\n",
    "dtree = DecisionTreeClassifier()\n"
   ]
  },
  {
   "cell_type": "code",
   "execution_count": 28,
   "id": "58dfad4d",
   "metadata": {
    "execution": {
     "iopub.execute_input": "2023-03-22T12:59:43.134166Z",
     "iopub.status.busy": "2023-03-22T12:59:43.133700Z",
     "iopub.status.idle": "2023-03-22T12:59:43.150322Z",
     "shell.execute_reply": "2023-03-22T12:59:43.149123Z"
    },
    "papermill": {
     "duration": 0.035643,
     "end_time": "2023-03-22T12:59:43.152819",
     "exception": false,
     "start_time": "2023-03-22T12:59:43.117176",
     "status": "completed"
    },
    "tags": []
   },
   "outputs": [
    {
     "data": {
      "text/plain": [
       "KNeighborsClassifier()"
      ]
     },
     "execution_count": 28,
     "metadata": {},
     "output_type": "execute_result"
    }
   ],
   "source": [
    "knn.fit(X_train,y_train)"
   ]
  },
  {
   "cell_type": "code",
   "execution_count": 29,
   "id": "2f9f005e",
   "metadata": {
    "execution": {
     "iopub.execute_input": "2023-03-22T12:59:43.185524Z",
     "iopub.status.busy": "2023-03-22T12:59:43.184283Z",
     "iopub.status.idle": "2023-03-22T12:59:43.196337Z",
     "shell.execute_reply": "2023-03-22T12:59:43.195088Z"
    },
    "papermill": {
     "duration": 0.030809,
     "end_time": "2023-03-22T12:59:43.198699",
     "exception": false,
     "start_time": "2023-03-22T12:59:43.167890",
     "status": "completed"
    },
    "tags": []
   },
   "outputs": [
    {
     "data": {
      "text/plain": [
       "DecisionTreeClassifier()"
      ]
     },
     "execution_count": 29,
     "metadata": {},
     "output_type": "execute_result"
    }
   ],
   "source": [
    "dtree.fit(X_train,y_train)"
   ]
  },
  {
   "cell_type": "code",
   "execution_count": 30,
   "id": "24d2d1e9",
   "metadata": {
    "execution": {
     "iopub.execute_input": "2023-03-22T12:59:43.230751Z",
     "iopub.status.busy": "2023-03-22T12:59:43.230293Z",
     "iopub.status.idle": "2023-03-22T12:59:43.248037Z",
     "shell.execute_reply": "2023-03-22T12:59:43.246666Z"
    },
    "papermill": {
     "duration": 0.037061,
     "end_time": "2023-03-22T12:59:43.250862",
     "exception": false,
     "start_time": "2023-03-22T12:59:43.213801",
     "status": "completed"
    },
    "tags": []
   },
   "outputs": [],
   "source": [
    "knnpred = knn.predict(X_test)\n",
    "dtreepred = dtree.predict(X_test)"
   ]
  },
  {
   "cell_type": "code",
   "execution_count": 31,
   "id": "c00f68fc",
   "metadata": {
    "execution": {
     "iopub.execute_input": "2023-03-22T12:59:43.283014Z",
     "iopub.status.busy": "2023-03-22T12:59:43.282444Z",
     "iopub.status.idle": "2023-03-22T12:59:43.291201Z",
     "shell.execute_reply": "2023-03-22T12:59:43.289480Z"
    },
    "papermill": {
     "duration": 0.028548,
     "end_time": "2023-03-22T12:59:43.294478",
     "exception": false,
     "start_time": "2023-03-22T12:59:43.265930",
     "status": "completed"
    },
    "tags": []
   },
   "outputs": [
    {
     "name": "stdout",
     "output_type": "stream",
     "text": [
      "Accuracy : 73.13 %\n",
      "Accuracy : 76.87 %\n"
     ]
    }
   ],
   "source": [
    "print(\"Accuracy :\",round(accuracy_score(y_test,knnpred)*100,2),\"%\")\n",
    "print(\"Accuracy :\",round(accuracy_score(y_test,dtreepred)*100,2),\"%\")"
   ]
  },
  {
   "cell_type": "code",
   "execution_count": 32,
   "id": "6813e56b",
   "metadata": {
    "execution": {
     "iopub.execute_input": "2023-03-22T12:59:43.328757Z",
     "iopub.status.busy": "2023-03-22T12:59:43.327889Z",
     "iopub.status.idle": "2023-03-22T12:59:43.344421Z",
     "shell.execute_reply": "2023-03-22T12:59:43.343059Z"
    },
    "papermill": {
     "duration": 0.036739,
     "end_time": "2023-03-22T12:59:43.346993",
     "exception": false,
     "start_time": "2023-03-22T12:59:43.310254",
     "status": "completed"
    },
    "tags": []
   },
   "outputs": [
    {
     "data": {
      "text/html": [
       "<div>\n",
       "<style scoped>\n",
       "    .dataframe tbody tr th:only-of-type {\n",
       "        vertical-align: middle;\n",
       "    }\n",
       "\n",
       "    .dataframe tbody tr th {\n",
       "        vertical-align: top;\n",
       "    }\n",
       "\n",
       "    .dataframe thead th {\n",
       "        text-align: right;\n",
       "    }\n",
       "</style>\n",
       "<table border=\"1\" class=\"dataframe\">\n",
       "  <thead>\n",
       "    <tr style=\"text-align: right;\">\n",
       "      <th></th>\n",
       "      <th>PassengerId</th>\n",
       "      <th>Pclass</th>\n",
       "      <th>Name</th>\n",
       "      <th>Sex</th>\n",
       "      <th>Age</th>\n",
       "      <th>SibSp</th>\n",
       "      <th>Parch</th>\n",
       "      <th>Ticket</th>\n",
       "      <th>Fare</th>\n",
       "      <th>Cabin</th>\n",
       "      <th>Embarked</th>\n",
       "    </tr>\n",
       "  </thead>\n",
       "  <tbody>\n",
       "    <tr>\n",
       "      <th>0</th>\n",
       "      <td>892</td>\n",
       "      <td>3</td>\n",
       "      <td>Kelly, Mr. James</td>\n",
       "      <td>male</td>\n",
       "      <td>34.5</td>\n",
       "      <td>0</td>\n",
       "      <td>0</td>\n",
       "      <td>330911</td>\n",
       "      <td>7.8292</td>\n",
       "      <td>NaN</td>\n",
       "      <td>Q</td>\n",
       "    </tr>\n",
       "    <tr>\n",
       "      <th>1</th>\n",
       "      <td>893</td>\n",
       "      <td>3</td>\n",
       "      <td>Wilkes, Mrs. James (Ellen Needs)</td>\n",
       "      <td>female</td>\n",
       "      <td>47.0</td>\n",
       "      <td>1</td>\n",
       "      <td>0</td>\n",
       "      <td>363272</td>\n",
       "      <td>7.0000</td>\n",
       "      <td>NaN</td>\n",
       "      <td>S</td>\n",
       "    </tr>\n",
       "    <tr>\n",
       "      <th>2</th>\n",
       "      <td>894</td>\n",
       "      <td>2</td>\n",
       "      <td>Myles, Mr. Thomas Francis</td>\n",
       "      <td>male</td>\n",
       "      <td>62.0</td>\n",
       "      <td>0</td>\n",
       "      <td>0</td>\n",
       "      <td>240276</td>\n",
       "      <td>9.6875</td>\n",
       "      <td>NaN</td>\n",
       "      <td>Q</td>\n",
       "    </tr>\n",
       "    <tr>\n",
       "      <th>3</th>\n",
       "      <td>895</td>\n",
       "      <td>3</td>\n",
       "      <td>Wirz, Mr. Albert</td>\n",
       "      <td>male</td>\n",
       "      <td>27.0</td>\n",
       "      <td>0</td>\n",
       "      <td>0</td>\n",
       "      <td>315154</td>\n",
       "      <td>8.6625</td>\n",
       "      <td>NaN</td>\n",
       "      <td>S</td>\n",
       "    </tr>\n",
       "    <tr>\n",
       "      <th>4</th>\n",
       "      <td>896</td>\n",
       "      <td>3</td>\n",
       "      <td>Hirvonen, Mrs. Alexander (Helga E Lindqvist)</td>\n",
       "      <td>female</td>\n",
       "      <td>22.0</td>\n",
       "      <td>1</td>\n",
       "      <td>1</td>\n",
       "      <td>3101298</td>\n",
       "      <td>12.2875</td>\n",
       "      <td>NaN</td>\n",
       "      <td>S</td>\n",
       "    </tr>\n",
       "  </tbody>\n",
       "</table>\n",
       "</div>"
      ],
      "text/plain": [
       "   PassengerId  Pclass                                          Name     Sex  \\\n",
       "0          892       3                              Kelly, Mr. James    male   \n",
       "1          893       3              Wilkes, Mrs. James (Ellen Needs)  female   \n",
       "2          894       2                     Myles, Mr. Thomas Francis    male   \n",
       "3          895       3                              Wirz, Mr. Albert    male   \n",
       "4          896       3  Hirvonen, Mrs. Alexander (Helga E Lindqvist)  female   \n",
       "\n",
       "    Age  SibSp  Parch   Ticket     Fare Cabin Embarked  \n",
       "0  34.5      0      0   330911   7.8292   NaN        Q  \n",
       "1  47.0      1      0   363272   7.0000   NaN        S  \n",
       "2  62.0      0      0   240276   9.6875   NaN        Q  \n",
       "3  27.0      0      0   315154   8.6625   NaN        S  \n",
       "4  22.0      1      1  3101298  12.2875   NaN        S  "
      ]
     },
     "execution_count": 32,
     "metadata": {},
     "output_type": "execute_result"
    }
   ],
   "source": [
    "testdata.head()"
   ]
  },
  {
   "cell_type": "code",
   "execution_count": 33,
   "id": "4f495398",
   "metadata": {
    "execution": {
     "iopub.execute_input": "2023-03-22T12:59:43.380662Z",
     "iopub.status.busy": "2023-03-22T12:59:43.379888Z",
     "iopub.status.idle": "2023-03-22T12:59:43.385647Z",
     "shell.execute_reply": "2023-03-22T12:59:43.384565Z"
    },
    "papermill": {
     "duration": 0.025548,
     "end_time": "2023-03-22T12:59:43.388288",
     "exception": false,
     "start_time": "2023-03-22T12:59:43.362740",
     "status": "completed"
    },
    "tags": []
   },
   "outputs": [],
   "source": [
    "testdata = testdata.set_index(\"PassengerId\")"
   ]
  },
  {
   "cell_type": "code",
   "execution_count": 34,
   "id": "d3bfd479",
   "metadata": {
    "execution": {
     "iopub.execute_input": "2023-03-22T12:59:43.421965Z",
     "iopub.status.busy": "2023-03-22T12:59:43.421157Z",
     "iopub.status.idle": "2023-03-22T12:59:43.442278Z",
     "shell.execute_reply": "2023-03-22T12:59:43.440853Z"
    },
    "papermill": {
     "duration": 0.041282,
     "end_time": "2023-03-22T12:59:43.445046",
     "exception": false,
     "start_time": "2023-03-22T12:59:43.403764",
     "status": "completed"
    },
    "tags": []
   },
   "outputs": [
    {
     "data": {
      "text/html": [
       "<div>\n",
       "<style scoped>\n",
       "    .dataframe tbody tr th:only-of-type {\n",
       "        vertical-align: middle;\n",
       "    }\n",
       "\n",
       "    .dataframe tbody tr th {\n",
       "        vertical-align: top;\n",
       "    }\n",
       "\n",
       "    .dataframe thead th {\n",
       "        text-align: right;\n",
       "    }\n",
       "</style>\n",
       "<table border=\"1\" class=\"dataframe\">\n",
       "  <thead>\n",
       "    <tr style=\"text-align: right;\">\n",
       "      <th></th>\n",
       "      <th>Pclass</th>\n",
       "      <th>Name</th>\n",
       "      <th>Sex</th>\n",
       "      <th>Age</th>\n",
       "      <th>SibSp</th>\n",
       "      <th>Parch</th>\n",
       "      <th>Ticket</th>\n",
       "      <th>Fare</th>\n",
       "      <th>Cabin</th>\n",
       "      <th>Embarked</th>\n",
       "    </tr>\n",
       "    <tr>\n",
       "      <th>PassengerId</th>\n",
       "      <th></th>\n",
       "      <th></th>\n",
       "      <th></th>\n",
       "      <th></th>\n",
       "      <th></th>\n",
       "      <th></th>\n",
       "      <th></th>\n",
       "      <th></th>\n",
       "      <th></th>\n",
       "      <th></th>\n",
       "    </tr>\n",
       "  </thead>\n",
       "  <tbody>\n",
       "    <tr>\n",
       "      <th>892</th>\n",
       "      <td>3</td>\n",
       "      <td>Kelly, Mr. James</td>\n",
       "      <td>male</td>\n",
       "      <td>34.5</td>\n",
       "      <td>0</td>\n",
       "      <td>0</td>\n",
       "      <td>330911</td>\n",
       "      <td>7.8292</td>\n",
       "      <td>NaN</td>\n",
       "      <td>Q</td>\n",
       "    </tr>\n",
       "    <tr>\n",
       "      <th>893</th>\n",
       "      <td>3</td>\n",
       "      <td>Wilkes, Mrs. James (Ellen Needs)</td>\n",
       "      <td>female</td>\n",
       "      <td>47.0</td>\n",
       "      <td>1</td>\n",
       "      <td>0</td>\n",
       "      <td>363272</td>\n",
       "      <td>7.0000</td>\n",
       "      <td>NaN</td>\n",
       "      <td>S</td>\n",
       "    </tr>\n",
       "    <tr>\n",
       "      <th>894</th>\n",
       "      <td>2</td>\n",
       "      <td>Myles, Mr. Thomas Francis</td>\n",
       "      <td>male</td>\n",
       "      <td>62.0</td>\n",
       "      <td>0</td>\n",
       "      <td>0</td>\n",
       "      <td>240276</td>\n",
       "      <td>9.6875</td>\n",
       "      <td>NaN</td>\n",
       "      <td>Q</td>\n",
       "    </tr>\n",
       "    <tr>\n",
       "      <th>895</th>\n",
       "      <td>3</td>\n",
       "      <td>Wirz, Mr. Albert</td>\n",
       "      <td>male</td>\n",
       "      <td>27.0</td>\n",
       "      <td>0</td>\n",
       "      <td>0</td>\n",
       "      <td>315154</td>\n",
       "      <td>8.6625</td>\n",
       "      <td>NaN</td>\n",
       "      <td>S</td>\n",
       "    </tr>\n",
       "    <tr>\n",
       "      <th>896</th>\n",
       "      <td>3</td>\n",
       "      <td>Hirvonen, Mrs. Alexander (Helga E Lindqvist)</td>\n",
       "      <td>female</td>\n",
       "      <td>22.0</td>\n",
       "      <td>1</td>\n",
       "      <td>1</td>\n",
       "      <td>3101298</td>\n",
       "      <td>12.2875</td>\n",
       "      <td>NaN</td>\n",
       "      <td>S</td>\n",
       "    </tr>\n",
       "    <tr>\n",
       "      <th>...</th>\n",
       "      <td>...</td>\n",
       "      <td>...</td>\n",
       "      <td>...</td>\n",
       "      <td>...</td>\n",
       "      <td>...</td>\n",
       "      <td>...</td>\n",
       "      <td>...</td>\n",
       "      <td>...</td>\n",
       "      <td>...</td>\n",
       "      <td>...</td>\n",
       "    </tr>\n",
       "    <tr>\n",
       "      <th>1305</th>\n",
       "      <td>3</td>\n",
       "      <td>Spector, Mr. Woolf</td>\n",
       "      <td>male</td>\n",
       "      <td>NaN</td>\n",
       "      <td>0</td>\n",
       "      <td>0</td>\n",
       "      <td>A.5. 3236</td>\n",
       "      <td>8.0500</td>\n",
       "      <td>NaN</td>\n",
       "      <td>S</td>\n",
       "    </tr>\n",
       "    <tr>\n",
       "      <th>1306</th>\n",
       "      <td>1</td>\n",
       "      <td>Oliva y Ocana, Dona. Fermina</td>\n",
       "      <td>female</td>\n",
       "      <td>39.0</td>\n",
       "      <td>0</td>\n",
       "      <td>0</td>\n",
       "      <td>PC 17758</td>\n",
       "      <td>108.9000</td>\n",
       "      <td>C105</td>\n",
       "      <td>C</td>\n",
       "    </tr>\n",
       "    <tr>\n",
       "      <th>1307</th>\n",
       "      <td>3</td>\n",
       "      <td>Saether, Mr. Simon Sivertsen</td>\n",
       "      <td>male</td>\n",
       "      <td>38.5</td>\n",
       "      <td>0</td>\n",
       "      <td>0</td>\n",
       "      <td>SOTON/O.Q. 3101262</td>\n",
       "      <td>7.2500</td>\n",
       "      <td>NaN</td>\n",
       "      <td>S</td>\n",
       "    </tr>\n",
       "    <tr>\n",
       "      <th>1308</th>\n",
       "      <td>3</td>\n",
       "      <td>Ware, Mr. Frederick</td>\n",
       "      <td>male</td>\n",
       "      <td>NaN</td>\n",
       "      <td>0</td>\n",
       "      <td>0</td>\n",
       "      <td>359309</td>\n",
       "      <td>8.0500</td>\n",
       "      <td>NaN</td>\n",
       "      <td>S</td>\n",
       "    </tr>\n",
       "    <tr>\n",
       "      <th>1309</th>\n",
       "      <td>3</td>\n",
       "      <td>Peter, Master. Michael J</td>\n",
       "      <td>male</td>\n",
       "      <td>NaN</td>\n",
       "      <td>1</td>\n",
       "      <td>1</td>\n",
       "      <td>2668</td>\n",
       "      <td>22.3583</td>\n",
       "      <td>NaN</td>\n",
       "      <td>C</td>\n",
       "    </tr>\n",
       "  </tbody>\n",
       "</table>\n",
       "<p>418 rows × 10 columns</p>\n",
       "</div>"
      ],
      "text/plain": [
       "             Pclass                                          Name     Sex  \\\n",
       "PassengerId                                                                 \n",
       "892               3                              Kelly, Mr. James    male   \n",
       "893               3              Wilkes, Mrs. James (Ellen Needs)  female   \n",
       "894               2                     Myles, Mr. Thomas Francis    male   \n",
       "895               3                              Wirz, Mr. Albert    male   \n",
       "896               3  Hirvonen, Mrs. Alexander (Helga E Lindqvist)  female   \n",
       "...             ...                                           ...     ...   \n",
       "1305              3                            Spector, Mr. Woolf    male   \n",
       "1306              1                  Oliva y Ocana, Dona. Fermina  female   \n",
       "1307              3                  Saether, Mr. Simon Sivertsen    male   \n",
       "1308              3                           Ware, Mr. Frederick    male   \n",
       "1309              3                      Peter, Master. Michael J    male   \n",
       "\n",
       "              Age  SibSp  Parch              Ticket      Fare Cabin Embarked  \n",
       "PassengerId                                                                   \n",
       "892          34.5      0      0              330911    7.8292   NaN        Q  \n",
       "893          47.0      1      0              363272    7.0000   NaN        S  \n",
       "894          62.0      0      0              240276    9.6875   NaN        Q  \n",
       "895          27.0      0      0              315154    8.6625   NaN        S  \n",
       "896          22.0      1      1             3101298   12.2875   NaN        S  \n",
       "...           ...    ...    ...                 ...       ...   ...      ...  \n",
       "1305          NaN      0      0           A.5. 3236    8.0500   NaN        S  \n",
       "1306         39.0      0      0            PC 17758  108.9000  C105        C  \n",
       "1307         38.5      0      0  SOTON/O.Q. 3101262    7.2500   NaN        S  \n",
       "1308          NaN      0      0              359309    8.0500   NaN        S  \n",
       "1309          NaN      1      1                2668   22.3583   NaN        C  \n",
       "\n",
       "[418 rows x 10 columns]"
      ]
     },
     "execution_count": 34,
     "metadata": {},
     "output_type": "execute_result"
    }
   ],
   "source": [
    "testdata"
   ]
  },
  {
   "cell_type": "code",
   "execution_count": 35,
   "id": "eeb6c21b",
   "metadata": {
    "execution": {
     "iopub.execute_input": "2023-03-22T12:59:43.478144Z",
     "iopub.status.busy": "2023-03-22T12:59:43.477685Z",
     "iopub.status.idle": "2023-03-22T12:59:43.490324Z",
     "shell.execute_reply": "2023-03-22T12:59:43.489079Z"
    },
    "papermill": {
     "duration": 0.031874,
     "end_time": "2023-03-22T12:59:43.492795",
     "exception": false,
     "start_time": "2023-03-22T12:59:43.460921",
     "status": "completed"
    },
    "tags": []
   },
   "outputs": [
    {
     "data": {
      "text/plain": [
       "Pclass       0.000000\n",
       "Name         0.000000\n",
       "Sex          0.000000\n",
       "Age         20.574163\n",
       "SibSp        0.000000\n",
       "Parch        0.000000\n",
       "Ticket       0.000000\n",
       "Fare         0.239234\n",
       "Cabin       78.229665\n",
       "Embarked     0.000000\n",
       "dtype: float64"
      ]
     },
     "execution_count": 35,
     "metadata": {},
     "output_type": "execute_result"
    }
   ],
   "source": [
    "testdata.isnull().sum()/len(testdata)*100"
   ]
  },
  {
   "cell_type": "code",
   "execution_count": 36,
   "id": "b6248962",
   "metadata": {
    "execution": {
     "iopub.execute_input": "2023-03-22T12:59:43.526830Z",
     "iopub.status.busy": "2023-03-22T12:59:43.525882Z",
     "iopub.status.idle": "2023-03-22T12:59:43.533656Z",
     "shell.execute_reply": "2023-03-22T12:59:43.532650Z"
    },
    "papermill": {
     "duration": 0.027708,
     "end_time": "2023-03-22T12:59:43.536190",
     "exception": false,
     "start_time": "2023-03-22T12:59:43.508482",
     "status": "completed"
    },
    "tags": []
   },
   "outputs": [],
   "source": [
    "testdata.drop([\"Cabin\",\"Name\",\"Ticket\"],axis = 1, inplace = True)"
   ]
  },
  {
   "cell_type": "code",
   "execution_count": 37,
   "id": "278e2803",
   "metadata": {
    "execution": {
     "iopub.execute_input": "2023-03-22T12:59:43.569410Z",
     "iopub.status.busy": "2023-03-22T12:59:43.569004Z",
     "iopub.status.idle": "2023-03-22T12:59:43.580979Z",
     "shell.execute_reply": "2023-03-22T12:59:43.579676Z"
    },
    "papermill": {
     "duration": 0.031982,
     "end_time": "2023-03-22T12:59:43.583778",
     "exception": false,
     "start_time": "2023-03-22T12:59:43.551796",
     "status": "completed"
    },
    "tags": []
   },
   "outputs": [],
   "source": [
    "temp2 = lambda x:x.map({'S':0,'C':1,'Q':2})\n",
    "testdata['Embarked'] = testdata[['Embarked']].apply(temp2)\n",
    "testdata[\"Age\"]=testdata[\"Age\"].fillna(testdata[\"Age\"].mean())\n",
    "testdata[\"Fare\"]=testdata[\"Fare\"].fillna(testdata[\"Fare\"].mean())\n",
    "testdata['Sex'] = label_encoder.fit_transform(testdata['Sex'])"
   ]
  },
  {
   "cell_type": "code",
   "execution_count": 38,
   "id": "f596cefb",
   "metadata": {
    "execution": {
     "iopub.execute_input": "2023-03-22T12:59:43.618209Z",
     "iopub.status.busy": "2023-03-22T12:59:43.617801Z",
     "iopub.status.idle": "2023-03-22T12:59:43.627715Z",
     "shell.execute_reply": "2023-03-22T12:59:43.626742Z"
    },
    "papermill": {
     "duration": 0.03018,
     "end_time": "2023-03-22T12:59:43.629939",
     "exception": false,
     "start_time": "2023-03-22T12:59:43.599759",
     "status": "completed"
    },
    "tags": []
   },
   "outputs": [
    {
     "data": {
      "text/plain": [
       "Pclass      0.0\n",
       "Sex         0.0\n",
       "Age         0.0\n",
       "SibSp       0.0\n",
       "Parch       0.0\n",
       "Fare        0.0\n",
       "Embarked    0.0\n",
       "dtype: float64"
      ]
     },
     "execution_count": 38,
     "metadata": {},
     "output_type": "execute_result"
    }
   ],
   "source": [
    "testdata.isnull().sum()/len(testdata)*100"
   ]
  },
  {
   "cell_type": "code",
   "execution_count": 39,
   "id": "438c71ea",
   "metadata": {
    "execution": {
     "iopub.execute_input": "2023-03-22T12:59:43.664343Z",
     "iopub.status.busy": "2023-03-22T12:59:43.662951Z",
     "iopub.status.idle": "2023-03-22T12:59:43.680913Z",
     "shell.execute_reply": "2023-03-22T12:59:43.679635Z"
    },
    "papermill": {
     "duration": 0.038151,
     "end_time": "2023-03-22T12:59:43.683866",
     "exception": false,
     "start_time": "2023-03-22T12:59:43.645715",
     "status": "completed"
    },
    "tags": []
   },
   "outputs": [
    {
     "data": {
      "text/html": [
       "<div>\n",
       "<style scoped>\n",
       "    .dataframe tbody tr th:only-of-type {\n",
       "        vertical-align: middle;\n",
       "    }\n",
       "\n",
       "    .dataframe tbody tr th {\n",
       "        vertical-align: top;\n",
       "    }\n",
       "\n",
       "    .dataframe thead th {\n",
       "        text-align: right;\n",
       "    }\n",
       "</style>\n",
       "<table border=\"1\" class=\"dataframe\">\n",
       "  <thead>\n",
       "    <tr style=\"text-align: right;\">\n",
       "      <th></th>\n",
       "      <th>Pclass</th>\n",
       "      <th>Sex</th>\n",
       "      <th>Age</th>\n",
       "      <th>SibSp</th>\n",
       "      <th>Parch</th>\n",
       "      <th>Fare</th>\n",
       "      <th>Embarked</th>\n",
       "    </tr>\n",
       "    <tr>\n",
       "      <th>PassengerId</th>\n",
       "      <th></th>\n",
       "      <th></th>\n",
       "      <th></th>\n",
       "      <th></th>\n",
       "      <th></th>\n",
       "      <th></th>\n",
       "      <th></th>\n",
       "    </tr>\n",
       "  </thead>\n",
       "  <tbody>\n",
       "    <tr>\n",
       "      <th>892</th>\n",
       "      <td>3</td>\n",
       "      <td>1</td>\n",
       "      <td>34.50000</td>\n",
       "      <td>0</td>\n",
       "      <td>0</td>\n",
       "      <td>7.8292</td>\n",
       "      <td>2</td>\n",
       "    </tr>\n",
       "    <tr>\n",
       "      <th>893</th>\n",
       "      <td>3</td>\n",
       "      <td>0</td>\n",
       "      <td>47.00000</td>\n",
       "      <td>1</td>\n",
       "      <td>0</td>\n",
       "      <td>7.0000</td>\n",
       "      <td>0</td>\n",
       "    </tr>\n",
       "    <tr>\n",
       "      <th>894</th>\n",
       "      <td>2</td>\n",
       "      <td>1</td>\n",
       "      <td>62.00000</td>\n",
       "      <td>0</td>\n",
       "      <td>0</td>\n",
       "      <td>9.6875</td>\n",
       "      <td>2</td>\n",
       "    </tr>\n",
       "    <tr>\n",
       "      <th>895</th>\n",
       "      <td>3</td>\n",
       "      <td>1</td>\n",
       "      <td>27.00000</td>\n",
       "      <td>0</td>\n",
       "      <td>0</td>\n",
       "      <td>8.6625</td>\n",
       "      <td>0</td>\n",
       "    </tr>\n",
       "    <tr>\n",
       "      <th>896</th>\n",
       "      <td>3</td>\n",
       "      <td>0</td>\n",
       "      <td>22.00000</td>\n",
       "      <td>1</td>\n",
       "      <td>1</td>\n",
       "      <td>12.2875</td>\n",
       "      <td>0</td>\n",
       "    </tr>\n",
       "    <tr>\n",
       "      <th>...</th>\n",
       "      <td>...</td>\n",
       "      <td>...</td>\n",
       "      <td>...</td>\n",
       "      <td>...</td>\n",
       "      <td>...</td>\n",
       "      <td>...</td>\n",
       "      <td>...</td>\n",
       "    </tr>\n",
       "    <tr>\n",
       "      <th>1305</th>\n",
       "      <td>3</td>\n",
       "      <td>1</td>\n",
       "      <td>30.27259</td>\n",
       "      <td>0</td>\n",
       "      <td>0</td>\n",
       "      <td>8.0500</td>\n",
       "      <td>0</td>\n",
       "    </tr>\n",
       "    <tr>\n",
       "      <th>1306</th>\n",
       "      <td>1</td>\n",
       "      <td>0</td>\n",
       "      <td>39.00000</td>\n",
       "      <td>0</td>\n",
       "      <td>0</td>\n",
       "      <td>108.9000</td>\n",
       "      <td>1</td>\n",
       "    </tr>\n",
       "    <tr>\n",
       "      <th>1307</th>\n",
       "      <td>3</td>\n",
       "      <td>1</td>\n",
       "      <td>38.50000</td>\n",
       "      <td>0</td>\n",
       "      <td>0</td>\n",
       "      <td>7.2500</td>\n",
       "      <td>0</td>\n",
       "    </tr>\n",
       "    <tr>\n",
       "      <th>1308</th>\n",
       "      <td>3</td>\n",
       "      <td>1</td>\n",
       "      <td>30.27259</td>\n",
       "      <td>0</td>\n",
       "      <td>0</td>\n",
       "      <td>8.0500</td>\n",
       "      <td>0</td>\n",
       "    </tr>\n",
       "    <tr>\n",
       "      <th>1309</th>\n",
       "      <td>3</td>\n",
       "      <td>1</td>\n",
       "      <td>30.27259</td>\n",
       "      <td>1</td>\n",
       "      <td>1</td>\n",
       "      <td>22.3583</td>\n",
       "      <td>1</td>\n",
       "    </tr>\n",
       "  </tbody>\n",
       "</table>\n",
       "<p>418 rows × 7 columns</p>\n",
       "</div>"
      ],
      "text/plain": [
       "             Pclass  Sex       Age  SibSp  Parch      Fare  Embarked\n",
       "PassengerId                                                         \n",
       "892               3    1  34.50000      0      0    7.8292         2\n",
       "893               3    0  47.00000      1      0    7.0000         0\n",
       "894               2    1  62.00000      0      0    9.6875         2\n",
       "895               3    1  27.00000      0      0    8.6625         0\n",
       "896               3    0  22.00000      1      1   12.2875         0\n",
       "...             ...  ...       ...    ...    ...       ...       ...\n",
       "1305              3    1  30.27259      0      0    8.0500         0\n",
       "1306              1    0  39.00000      0      0  108.9000         1\n",
       "1307              3    1  38.50000      0      0    7.2500         0\n",
       "1308              3    1  30.27259      0      0    8.0500         0\n",
       "1309              3    1  30.27259      1      1   22.3583         1\n",
       "\n",
       "[418 rows x 7 columns]"
      ]
     },
     "execution_count": 39,
     "metadata": {},
     "output_type": "execute_result"
    }
   ],
   "source": [
    "testdata"
   ]
  },
  {
   "cell_type": "code",
   "execution_count": 40,
   "id": "c4f8dace",
   "metadata": {
    "execution": {
     "iopub.execute_input": "2023-03-22T12:59:43.719514Z",
     "iopub.status.busy": "2023-03-22T12:59:43.719085Z",
     "iopub.status.idle": "2023-03-22T12:59:43.727533Z",
     "shell.execute_reply": "2023-03-22T12:59:43.726211Z"
    },
    "papermill": {
     "duration": 0.029581,
     "end_time": "2023-03-22T12:59:43.730276",
     "exception": false,
     "start_time": "2023-03-22T12:59:43.700695",
     "status": "completed"
    },
    "tags": []
   },
   "outputs": [],
   "source": [
    "pred = dtree.predict(testdata)"
   ]
  },
  {
   "cell_type": "code",
   "execution_count": 41,
   "id": "0f458715",
   "metadata": {
    "execution": {
     "iopub.execute_input": "2023-03-22T12:59:43.766098Z",
     "iopub.status.busy": "2023-03-22T12:59:43.765255Z",
     "iopub.status.idle": "2023-03-22T12:59:43.772982Z",
     "shell.execute_reply": "2023-03-22T12:59:43.771737Z"
    },
    "papermill": {
     "duration": 0.029003,
     "end_time": "2023-03-22T12:59:43.775608",
     "exception": false,
     "start_time": "2023-03-22T12:59:43.746605",
     "status": "completed"
    },
    "tags": []
   },
   "outputs": [
    {
     "data": {
      "text/plain": [
       "array([0, 0, 0, 1, 0, 0, 0, 0, 1, 0, 0, 0, 1, 0, 1, 1, 0, 1, 1, 0, 0, 1,\n",
       "       1, 0, 1, 0, 1, 1, 1, 0, 0, 0, 1, 0, 0, 1, 0, 0, 0, 0, 1, 0, 0, 1,\n",
       "       1, 0, 0, 0, 1, 1, 1, 1, 1, 1, 0, 0, 0, 0, 0, 1, 0, 0, 0, 1, 0, 1,\n",
       "       1, 0, 0, 1, 1, 0, 0, 0, 1, 0, 0, 1, 0, 1, 1, 0, 1, 0, 0, 0, 1, 1,\n",
       "       1, 1, 0, 0, 1, 0, 0, 0, 1, 0, 0, 0, 1, 0, 0, 0, 1, 0, 1, 0, 0, 0,\n",
       "       0, 1, 1, 1, 1, 0, 0, 1, 0, 1, 1, 0, 1, 0, 0, 1, 1, 1, 0, 0, 1, 1,\n",
       "       0, 0, 0, 0, 0, 0, 0, 0, 0, 1, 0, 0, 1, 1, 0, 0, 0, 0, 1, 0, 0, 0,\n",
       "       0, 0, 1, 0, 1, 1, 1, 1, 1, 1, 0, 1, 1, 0, 1, 0, 0, 0, 0, 0, 0, 1,\n",
       "       1, 0, 1, 1, 0, 0, 1, 0, 1, 0, 1, 1, 0, 0, 0, 0, 0, 0, 1, 0, 1, 0,\n",
       "       0, 0, 0, 1, 0, 1, 0, 0, 0, 0, 1, 0, 1, 0, 0, 1, 0, 0, 1, 0, 1, 0,\n",
       "       1, 0, 1, 1, 1, 0, 0, 1, 0, 0, 0, 1, 0, 0, 0, 0, 0, 1, 1, 1, 1, 1,\n",
       "       0, 0, 0, 0, 1, 0, 1, 0, 0, 0, 0, 0, 0, 0, 0, 0, 1, 0, 0, 0, 1, 0,\n",
       "       0, 0, 0, 0, 0, 0, 0, 0, 1, 0, 0, 1, 0, 0, 0, 0, 0, 1, 1, 0, 0, 0,\n",
       "       0, 1, 0, 0, 0, 0, 0, 1, 0, 0, 0, 0, 0, 0, 1, 0, 0, 0, 1, 1, 0, 1,\n",
       "       0, 0, 0, 1, 0, 0, 1, 1, 0, 0, 0, 0, 0, 0, 0, 1, 1, 0, 1, 0, 0, 0,\n",
       "       1, 1, 0, 1, 0, 0, 0, 1, 0, 0, 0, 1, 0, 1, 0, 1, 0, 0, 0, 1, 1, 0,\n",
       "       0, 0, 0, 0, 1, 0, 0, 0, 0, 1, 1, 1, 1, 0, 0, 1, 1, 1, 0, 1, 1, 0,\n",
       "       1, 1, 0, 0, 0, 0, 0, 1, 0, 1, 0, 1, 0, 0, 1, 0, 1, 1, 0, 0, 0, 1,\n",
       "       0, 1, 0, 0, 1, 0, 1, 0, 0, 0, 0, 0, 1, 0, 1, 1, 0, 0, 1, 0, 0, 0])"
      ]
     },
     "execution_count": 41,
     "metadata": {},
     "output_type": "execute_result"
    }
   ],
   "source": [
    "pred"
   ]
  },
  {
   "cell_type": "code",
   "execution_count": 42,
   "id": "1def77b5",
   "metadata": {
    "execution": {
     "iopub.execute_input": "2023-03-22T12:59:43.810678Z",
     "iopub.status.busy": "2023-03-22T12:59:43.810178Z",
     "iopub.status.idle": "2023-03-22T12:59:43.818366Z",
     "shell.execute_reply": "2023-03-22T12:59:43.817044Z"
    },
    "papermill": {
     "duration": 0.028465,
     "end_time": "2023-03-22T12:59:43.820649",
     "exception": false,
     "start_time": "2023-03-22T12:59:43.792184",
     "status": "completed"
    },
    "tags": []
   },
   "outputs": [],
   "source": [
    "result = pd.DataFrame()\n",
    "result[\"PassengerId\"] = testdata.index\n",
    "result[\"Survived\"] = pred"
   ]
  },
  {
   "cell_type": "code",
   "execution_count": 43,
   "id": "53aa4e7f",
   "metadata": {
    "execution": {
     "iopub.execute_input": "2023-03-22T12:59:43.855824Z",
     "iopub.status.busy": "2023-03-22T12:59:43.855034Z",
     "iopub.status.idle": "2023-03-22T12:59:43.861258Z",
     "shell.execute_reply": "2023-03-22T12:59:43.859966Z"
    },
    "papermill": {
     "duration": 0.026744,
     "end_time": "2023-03-22T12:59:43.863785",
     "exception": false,
     "start_time": "2023-03-22T12:59:43.837041",
     "status": "completed"
    },
    "tags": []
   },
   "outputs": [],
   "source": [
    "result = result.set_index(\"PassengerId\")"
   ]
  },
  {
   "cell_type": "code",
   "execution_count": 44,
   "id": "263759f8",
   "metadata": {
    "execution": {
     "iopub.execute_input": "2023-03-22T12:59:43.898643Z",
     "iopub.status.busy": "2023-03-22T12:59:43.898151Z",
     "iopub.status.idle": "2023-03-22T12:59:43.910151Z",
     "shell.execute_reply": "2023-03-22T12:59:43.908819Z"
    },
    "papermill": {
     "duration": 0.032832,
     "end_time": "2023-03-22T12:59:43.912942",
     "exception": false,
     "start_time": "2023-03-22T12:59:43.880110",
     "status": "completed"
    },
    "tags": []
   },
   "outputs": [],
   "source": [
    "result.to_csv(\"/kaggle/working/submission.csv\")"
   ]
  },
  {
   "cell_type": "code",
   "execution_count": 45,
   "id": "57c2f92d",
   "metadata": {
    "execution": {
     "iopub.execute_input": "2023-03-22T12:59:43.947544Z",
     "iopub.status.busy": "2023-03-22T12:59:43.947091Z",
     "iopub.status.idle": "2023-03-22T12:59:43.959964Z",
     "shell.execute_reply": "2023-03-22T12:59:43.958636Z"
    },
    "papermill": {
     "duration": 0.033279,
     "end_time": "2023-03-22T12:59:43.962563",
     "exception": false,
     "start_time": "2023-03-22T12:59:43.929284",
     "status": "completed"
    },
    "tags": []
   },
   "outputs": [
    {
     "data": {
      "text/html": [
       "<div>\n",
       "<style scoped>\n",
       "    .dataframe tbody tr th:only-of-type {\n",
       "        vertical-align: middle;\n",
       "    }\n",
       "\n",
       "    .dataframe tbody tr th {\n",
       "        vertical-align: top;\n",
       "    }\n",
       "\n",
       "    .dataframe thead th {\n",
       "        text-align: right;\n",
       "    }\n",
       "</style>\n",
       "<table border=\"1\" class=\"dataframe\">\n",
       "  <thead>\n",
       "    <tr style=\"text-align: right;\">\n",
       "      <th></th>\n",
       "      <th>Survived</th>\n",
       "    </tr>\n",
       "    <tr>\n",
       "      <th>PassengerId</th>\n",
       "      <th></th>\n",
       "    </tr>\n",
       "  </thead>\n",
       "  <tbody>\n",
       "    <tr>\n",
       "      <th>892</th>\n",
       "      <td>0</td>\n",
       "    </tr>\n",
       "    <tr>\n",
       "      <th>893</th>\n",
       "      <td>0</td>\n",
       "    </tr>\n",
       "    <tr>\n",
       "      <th>894</th>\n",
       "      <td>0</td>\n",
       "    </tr>\n",
       "    <tr>\n",
       "      <th>895</th>\n",
       "      <td>1</td>\n",
       "    </tr>\n",
       "    <tr>\n",
       "      <th>896</th>\n",
       "      <td>0</td>\n",
       "    </tr>\n",
       "    <tr>\n",
       "      <th>...</th>\n",
       "      <td>...</td>\n",
       "    </tr>\n",
       "    <tr>\n",
       "      <th>1305</th>\n",
       "      <td>0</td>\n",
       "    </tr>\n",
       "    <tr>\n",
       "      <th>1306</th>\n",
       "      <td>1</td>\n",
       "    </tr>\n",
       "    <tr>\n",
       "      <th>1307</th>\n",
       "      <td>0</td>\n",
       "    </tr>\n",
       "    <tr>\n",
       "      <th>1308</th>\n",
       "      <td>0</td>\n",
       "    </tr>\n",
       "    <tr>\n",
       "      <th>1309</th>\n",
       "      <td>0</td>\n",
       "    </tr>\n",
       "  </tbody>\n",
       "</table>\n",
       "<p>418 rows × 1 columns</p>\n",
       "</div>"
      ],
      "text/plain": [
       "             Survived\n",
       "PassengerId          \n",
       "892                 0\n",
       "893                 0\n",
       "894                 0\n",
       "895                 1\n",
       "896                 0\n",
       "...               ...\n",
       "1305                0\n",
       "1306                1\n",
       "1307                0\n",
       "1308                0\n",
       "1309                0\n",
       "\n",
       "[418 rows x 1 columns]"
      ]
     },
     "execution_count": 45,
     "metadata": {},
     "output_type": "execute_result"
    }
   ],
   "source": [
    "result"
   ]
  },
  {
   "cell_type": "code",
   "execution_count": null,
   "id": "3c1c2c9f",
   "metadata": {
    "papermill": {
     "duration": 0.016364,
     "end_time": "2023-03-22T12:59:43.996230",
     "exception": false,
     "start_time": "2023-03-22T12:59:43.979866",
     "status": "completed"
    },
    "tags": []
   },
   "outputs": [],
   "source": []
  }
 ],
 "metadata": {
  "kernelspec": {
   "display_name": "Python 3",
   "language": "python",
   "name": "python3"
  },
  "language_info": {
   "codemirror_mode": {
    "name": "ipython",
    "version": 3
   },
   "file_extension": ".py",
   "mimetype": "text/x-python",
   "name": "python",
   "nbconvert_exporter": "python",
   "pygments_lexer": "ipython3",
   "version": "3.7.12"
  },
  "papermill": {
   "default_parameters": {},
   "duration": 16.277106,
   "end_time": "2023-03-22T12:59:44.835841",
   "environment_variables": {},
   "exception": null,
   "input_path": "__notebook__.ipynb",
   "output_path": "__notebook__.ipynb",
   "parameters": {},
   "start_time": "2023-03-22T12:59:28.558735",
   "version": "2.4.0"
  }
 },
 "nbformat": 4,
 "nbformat_minor": 5
}
